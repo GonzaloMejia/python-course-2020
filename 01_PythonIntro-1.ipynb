{
 "cells": [
  {
   "cell_type": "markdown",
   "metadata": {},
   "source": [
    "# Lesson 2 - Introduction to Python"
   ]
  },
  {
   "cell_type": "markdown",
   "metadata": {},
   "source": [
    "> _“when you don't create things, you become defined by your tastes rather than ability. your tastes only narrow & exclude people. so create.”_ ~ Why The Lucky Stiff\n",
    "\n",
    "> _\"It's always easier to apologize for something you've already done than to get approval for it in advance.\"_ ~ Grace Hopper\n",
    "\n",
    "> _\"We know the past but cannot control it. We control the future but cannot know it.\"_ ~ Claude Shannon"
   ]
  },
  {
   "cell_type": "markdown",
   "metadata": {},
   "source": [
    "![cover_01](https://ares.decipherzone.com/blog-manager/uploads/banner_cbb8a03d-9c3b-4e5a-a562-eb22d7b8baf2.jpg)\n",
    "\n",
    "**Source:** [The Printing Press & Type Foundries by Janet Chan](https://www.informationisbeautifulawards.com/showcase/1598-the-printing-press-type-foundries)"
   ]
  },
  {
   "cell_type": "markdown",
   "metadata": {},
   "source": [
    "Here we will walk through some of the most important concepts you will need to know to program in Python, regardless of the domain you decided to pick up this language for.\n",
    "\n",
    "### Outline for this lesson\n",
    "\n",
    "1. Data Types\n",
    "2. Variables\n",
    "3. Data Structures\n",
    "4. Printing\n",
    "5. Math\n",
    "6. Modules/Packages/Libraries\n",
    "7. input module\n",
    "8. Summary\n",
    "\n",
    "\n",
    "A very help(full!) tool is the `help()` function (no pun intended). If you pass any function or Python element to it, it will provide you with the documentation of that object. In addition, you can use one `?` or `??` alongside a function or element in Python to get some general information or the entire documentation string from it, respectively. Use these as your best friends throughout the course. For example,  we can call `?` and `??` on the help function to understand the differences between the two."
   ]
  },
  {
   "cell_type": "code",
   "execution_count": 3,
   "metadata": {},
   "outputs": [
    {
     "data": {
      "text/plain": [
       "\u001b[0;31mSignature:\u001b[0m   \u001b[0mhelp\u001b[0m\u001b[0;34m(\u001b[0m\u001b[0;34m*\u001b[0m\u001b[0margs\u001b[0m\u001b[0;34m,\u001b[0m \u001b[0;34m**\u001b[0m\u001b[0mkwds\u001b[0m\u001b[0;34m)\u001b[0m\u001b[0;34m\u001b[0m\u001b[0;34m\u001b[0m\u001b[0m\n",
       "\u001b[0;31mType:\u001b[0m        _Helper\n",
       "\u001b[0;31mString form:\u001b[0m Type help() for interactive help, or help(object) for help about object.\n",
       "\u001b[0;31mNamespace:\u001b[0m   Python builtin\n",
       "\u001b[0;31mFile:\u001b[0m        ~/opt/anaconda3/lib/python3.8/_sitebuiltins.py\n",
       "\u001b[0;31mDocstring:\u001b[0m  \n",
       "Define the builtin 'help'.\n",
       "\n",
       "This is a wrapper around pydoc.help that provides a helpful message\n",
       "when 'help' is typed at the Python interactive prompt.\n",
       "\n",
       "Calling help() at the Python prompt starts an interactive help session.\n",
       "Calling help(thing) prints help for the python object 'thing'.\n"
      ]
     },
     "metadata": {},
     "output_type": "display_data"
    }
   ],
   "source": [
    "help?"
   ]
  },
  {
   "cell_type": "code",
   "execution_count": 4,
   "metadata": {},
   "outputs": [
    {
     "data": {
      "text/plain": [
       "\u001b[0;31mSignature:\u001b[0m   \u001b[0mhelp\u001b[0m\u001b[0;34m(\u001b[0m\u001b[0;34m*\u001b[0m\u001b[0margs\u001b[0m\u001b[0;34m,\u001b[0m \u001b[0;34m**\u001b[0m\u001b[0mkwds\u001b[0m\u001b[0;34m)\u001b[0m\u001b[0;34m\u001b[0m\u001b[0;34m\u001b[0m\u001b[0m\n",
       "\u001b[0;31mType:\u001b[0m        _Helper\n",
       "\u001b[0;31mString form:\u001b[0m Type help() for interactive help, or help(object) for help about object.\n",
       "\u001b[0;31mNamespace:\u001b[0m   Python builtin\n",
       "\u001b[0;31mFile:\u001b[0m        ~/opt/anaconda3/lib/python3.8/_sitebuiltins.py\n",
       "\u001b[0;31mSource:\u001b[0m     \n",
       "\u001b[0;32mclass\u001b[0m \u001b[0m_Helper\u001b[0m\u001b[0;34m(\u001b[0m\u001b[0mobject\u001b[0m\u001b[0;34m)\u001b[0m\u001b[0;34m:\u001b[0m\u001b[0;34m\u001b[0m\n",
       "\u001b[0;34m\u001b[0m    \u001b[0;34m\"\"\"Define the builtin 'help'.\u001b[0m\n",
       "\u001b[0;34m\u001b[0m\n",
       "\u001b[0;34m    This is a wrapper around pydoc.help that provides a helpful message\u001b[0m\n",
       "\u001b[0;34m    when 'help' is typed at the Python interactive prompt.\u001b[0m\n",
       "\u001b[0;34m\u001b[0m\n",
       "\u001b[0;34m    Calling help() at the Python prompt starts an interactive help session.\u001b[0m\n",
       "\u001b[0;34m    Calling help(thing) prints help for the python object 'thing'.\u001b[0m\n",
       "\u001b[0;34m    \"\"\"\u001b[0m\u001b[0;34m\u001b[0m\n",
       "\u001b[0;34m\u001b[0m\u001b[0;34m\u001b[0m\n",
       "\u001b[0;34m\u001b[0m    \u001b[0;32mdef\u001b[0m \u001b[0m__repr__\u001b[0m\u001b[0;34m(\u001b[0m\u001b[0mself\u001b[0m\u001b[0;34m)\u001b[0m\u001b[0;34m:\u001b[0m\u001b[0;34m\u001b[0m\n",
       "\u001b[0;34m\u001b[0m        \u001b[0;32mreturn\u001b[0m \u001b[0;34m\"Type help() for interactive help, \"\u001b[0m \\\n",
       "               \u001b[0;34m\"or help(object) for help about object.\"\u001b[0m\u001b[0;34m\u001b[0m\n",
       "\u001b[0;34m\u001b[0m    \u001b[0;32mdef\u001b[0m \u001b[0m__call__\u001b[0m\u001b[0;34m(\u001b[0m\u001b[0mself\u001b[0m\u001b[0;34m,\u001b[0m \u001b[0;34m*\u001b[0m\u001b[0margs\u001b[0m\u001b[0;34m,\u001b[0m \u001b[0;34m**\u001b[0m\u001b[0mkwds\u001b[0m\u001b[0;34m)\u001b[0m\u001b[0;34m:\u001b[0m\u001b[0;34m\u001b[0m\n",
       "\u001b[0;34m\u001b[0m        \u001b[0;32mimport\u001b[0m \u001b[0mpydoc\u001b[0m\u001b[0;34m\u001b[0m\n",
       "\u001b[0;34m\u001b[0m        \u001b[0;32mreturn\u001b[0m \u001b[0mpydoc\u001b[0m\u001b[0;34m.\u001b[0m\u001b[0mhelp\u001b[0m\u001b[0;34m(\u001b[0m\u001b[0;34m*\u001b[0m\u001b[0margs\u001b[0m\u001b[0;34m,\u001b[0m \u001b[0;34m**\u001b[0m\u001b[0mkwds\u001b[0m\u001b[0;34m)\u001b[0m\u001b[0;34m\u001b[0m\u001b[0;34m\u001b[0m\u001b[0m\n"
      ]
     },
     "metadata": {},
     "output_type": "display_data"
    }
   ],
   "source": [
    "help??"
   ]
  },
  {
   "cell_type": "markdown",
   "metadata": {},
   "source": [
    "One last thing before we begin. Python has a coding philosophy called \"The Zen of Python\" which by no means you need to abide by, but, it does make it a lot easier to collaborate with others that do follow these coding conventions. You can access \"The Zen of Python\" by typing and running `import this` in an empty cell."
   ]
  },
  {
   "cell_type": "code",
   "execution_count": 5,
   "metadata": {},
   "outputs": [
    {
     "name": "stdout",
     "output_type": "stream",
     "text": [
      "\n",
      "Welcome to Python 3.8's help utility!\n",
      "\n",
      "If this is your first time using Python, you should definitely check out\n",
      "the tutorial on the Internet at https://docs.python.org/3.8/tutorial/.\n",
      "\n",
      "Enter the name of any module, keyword, or topic to get help on writing\n",
      "Python programs and using Python modules.  To quit this help utility and\n",
      "return to the interpreter, just type \"quit\".\n",
      "\n",
      "To get a list of available modules, keywords, symbols, or topics, type\n",
      "\"modules\", \"keywords\", \"symbols\", or \"topics\".  Each module also comes\n",
      "with a one-line summary of what it does; to list the modules whose name\n",
      "or summary contain a given string such as \"spam\", type \"modules spam\".\n",
      "\n"
     ]
    },
    {
     "name": "stdin",
     "output_type": "stream",
     "text": [
      "help>  print\n"
     ]
    },
    {
     "name": "stdout",
     "output_type": "stream",
     "text": [
      "Help on built-in function print in module builtins:\n",
      "\n",
      "print(...)\n",
      "    print(value, ..., sep=' ', end='\\n', file=sys.stdout, flush=False)\n",
      "    \n",
      "    Prints the values to a stream, or to sys.stdout by default.\n",
      "    Optional keyword arguments:\n",
      "    file:  a file-like object (stream); defaults to the current sys.stdout.\n",
      "    sep:   string inserted between values, default a space.\n",
      "    end:   string appended after the last value, default a newline.\n",
      "    flush: whether to forcibly flush the stream.\n",
      "\n",
      "\n",
      "You are now leaving help and returning to the Python interpreter.\n",
      "If you want to ask for help on a particular object directly from the\n",
      "interpreter, you can type \"help(object)\".  Executing \"help('string')\"\n",
      "has the same effect as typing a particular string at the help> prompt.\n"
     ]
    },
    {
     "name": "stdin",
     "output_type": "stream",
     "text": [
      "help>  stop\n"
     ]
    }
   ],
   "source": [
    "help()"
   ]
  },
  {
   "cell_type": "code",
   "execution_count": 1,
   "metadata": {},
   "outputs": [
    {
     "name": "stdout",
     "output_type": "stream",
     "text": [
      "The Zen of Python, by Tim Peters\n",
      "\n",
      "Beautiful is better than ugly.\n",
      "Explicit is better than implicit.\n",
      "Simple is better than complex.\n",
      "Complex is better than complicated.\n",
      "Flat is better than nested.\n",
      "Sparse is better than dense.\n",
      "Readability counts.\n",
      "Special cases aren't special enough to break the rules.\n",
      "Although practicality beats purity.\n",
      "Errors should never pass silently.\n",
      "Unless explicitly silenced.\n",
      "In the face of ambiguity, refuse the temptation to guess.\n",
      "There should be one-- and preferably only one --obvious way to do it.\n",
      "Although that way may not be obvious at first unless you're Dutch.\n",
      "Now is better than never.\n",
      "Although never is often better than *right* now.\n",
      "If the implementation is hard to explain, it's a bad idea.\n",
      "If the implementation is easy to explain, it may be a good idea.\n",
      "Namespaces are one honking great idea -- let's do more of those!\n"
     ]
    }
   ],
   "source": [
    "import this"
   ]
  },
  {
   "cell_type": "markdown",
   "metadata": {},
   "source": [
    "# 1 Data Types"
   ]
  },
  {
   "cell_type": "markdown",
   "metadata": {},
   "source": [
    "Even though everything in Python can be cosidered an object, these objects can be further subdivided into different components. The most important ones are strings, integers, and floating-point numbers. Let's begin with strings."
   ]
  },
  {
   "cell_type": "markdown",
   "metadata": {},
   "source": [
    "## 1.1 [Strings](https://docs.python.org/3/library/string.html)"
   ]
  },
  {
   "cell_type": "markdown",
   "metadata": {},
   "source": [
    "Text data is call a `string` in Python. It is very important to learn how to deal with strings from an early stage, especially since it is often the case that the complexity of different datasets increases due to intricate cases of text data. In addition, most of the data we have and generate on a daily basis is unstructured data, meaning, data that is not in a nice columnar way like what we see often in Excel Spreadsheet. Unstructured data can be text, photos, emails, audio recordings, videos, and data with many other representations that are not easily fitted into a tabular format. Learning how to deal with text data will set you up for success as you keep progressing through your analytics journey.\n",
    "\n",
    "Let's get started with some examples of strings."
   ]
  },
  {
   "cell_type": "code",
   "execution_count": 2,
   "metadata": {},
   "outputs": [
    {
     "data": {
      "text/plain": [
       "'This is a string or text type'"
      ]
     },
     "execution_count": 2,
     "metadata": {},
     "output_type": "execute_result"
    }
   ],
   "source": [
    "\"This is a string or text type\""
   ]
  },
  {
   "cell_type": "code",
   "execution_count": 3,
   "metadata": {},
   "outputs": [
    {
     "data": {
      "text/plain": [
       "'this is also a string (notice the quotation marks)'"
      ]
     },
     "execution_count": 3,
     "metadata": {},
     "output_type": "execute_result"
    }
   ],
   "source": [
    "'this is also a string (notice the quotation marks)'"
   ]
  },
  {
   "cell_type": "code",
   "execution_count": null,
   "metadata": {},
   "outputs": [],
   "source": [
    "\"this 'string' has something in quotation marks inside of it. Notice how the quotation marks need to be different though!\""
   ]
  },
  {
   "cell_type": "markdown",
   "metadata": {},
   "source": [
    "You can use both kinds of quotation marks together but keep in mind that you cannot start a string with one kind of quotation mark and end it with another, otherwise Python will give you an error. For example:\n",
    "\n",
    "> Yes, you can do this --> \"Hi my name is '__your name__' and I am learning Python\"  ✅\n",
    "\n",
    "> No, don't do this --> \"Hi, 'Python\" is awesome' ❌"
   ]
  },
  {
   "cell_type": "markdown",
   "metadata": {},
   "source": [
    "## Exercise 1\n",
    "\n",
    "1. Type your name in the first cell below using 1 kind of quotation marks.\n",
    "2. Type your last name on the second cell using the other kind of quotation marks.\n",
    "3. Type your first name, last name, and the city in which you were born at inside quotation marks. The city has to be inside additional quotation marks."
   ]
  },
  {
   "cell_type": "code",
   "execution_count": 4,
   "metadata": {},
   "outputs": [],
   "source": [
    "# first cell\n",
    "name = \"Gonzalo\""
   ]
  },
  {
   "cell_type": "code",
   "execution_count": 10,
   "metadata": {},
   "outputs": [],
   "source": [
    "# second cell\n",
    "surname = 'Mejia'"
   ]
  },
  {
   "cell_type": "code",
   "execution_count": 9,
   "metadata": {},
   "outputs": [
    {
     "name": "stdout",
     "output_type": "stream",
     "text": [
      "My name is Gonzalo Mejia. I was born in 'Lima'.\n"
     ]
    }
   ],
   "source": [
    "# third cell\n",
    "name = \"Gonzalo\"\n",
    "surname = 'Mejia'\n",
    "my_city = \"Lima\"\n",
    "\n",
    "print(f\"My name is {name} {surname}. I was born in '{my_city}'.\")"
   ]
  },
  {
   "cell_type": "markdown",
   "metadata": {},
   "source": [
    "You can access string elements (i.e. a letter, a dot, a comma, a space, etc., inside your string) using a bracket after the string. These elements can be one letter or a group of letters, and the numbers you use to access them are the indices of the string. For example:"
   ]
  },
  {
   "cell_type": "code",
   "execution_count": 12,
   "metadata": {},
   "outputs": [
    {
     "data": {
      "text/plain": [
       "'a'"
      ]
     },
     "execution_count": 12,
     "metadata": {},
     "output_type": "execute_result"
    }
   ],
   "source": [
    "\"What a beautiful day to learn how to program\"[5]"
   ]
  },
  {
   "cell_type": "code",
   "execution_count": 16,
   "metadata": {},
   "outputs": [
    {
     "data": {
      "text/plain": [
       "45"
      ]
     },
     "execution_count": 16,
     "metadata": {},
     "output_type": "execute_result"
    }
   ],
   "source": [
    "a_string = \"freijnf3oi4fn304fn34f 34f i3n4f9 i3n4f9 in34f\"\n",
    "len(a_string)"
   ]
  },
  {
   "cell_type": "markdown",
   "metadata": {},
   "source": [
    "Note that Python starts counting indeces from 0, hence, the letter `'a'` above is at index `5` but it is the sixth element of that string.\n",
    "\n",
    "- \"W\" --> 0\n",
    "- \"h\" --> 1\n",
    "- \"a\" --> 2\n",
    "- \"t\" --> 3\n",
    "- \" \" --> 4\n",
    "- \"a\" --> 5"
   ]
  },
  {
   "cell_type": "code",
   "execution_count": 13,
   "metadata": {},
   "outputs": [
    {
     "data": {
      "text/plain": [
       "'What a beautiful day'"
      ]
     },
     "execution_count": 13,
     "metadata": {},
     "output_type": "execute_result"
    }
   ],
   "source": [
    "\"What a beautiful day to learn how to program\"[0:20]"
   ]
  },
  {
   "cell_type": "markdown",
   "metadata": {},
   "source": [
    "Another cool feature of slicing a range of elements in a data type or structure, is that if we do not specify the first element, e.g. `[:20]`,  Python would know that we are trying to select all elements from the beginning and up to the number we have selected."
   ]
  },
  {
   "cell_type": "code",
   "execution_count": null,
   "metadata": {},
   "outputs": [],
   "source": [
    "\"What a beautiful day to learn how to program\"[:20]"
   ]
  },
  {
   "cell_type": "markdown",
   "metadata": {},
   "source": [
    "The same functionality applies to the end of a data type or structure. If we do not specify a number at the end of a slicing notations, it will go all the way to the end of the object."
   ]
  },
  {
   "cell_type": "code",
   "execution_count": null,
   "metadata": {},
   "outputs": [],
   "source": [
    "\"What a beautiful day to learn how to program\"[24:]"
   ]
  },
  {
   "cell_type": "markdown",
   "metadata": {},
   "source": [
    "Lastly, it is important to note that the last number in a slice is never included in the results. For example, notice below how the number 4, representing the element in position 5, was a space (remember, Python starts counting from zero) was not included in the evaluation of the cell. If you change the 4 to a 5, it will then include the space between `\"What\"` and `\"a\"`."
   ]
  },
  {
   "cell_type": "code",
   "execution_count": 15,
   "metadata": {},
   "outputs": [
    {
     "data": {
      "text/plain": [
       "'What '"
      ]
     },
     "execution_count": 15,
     "metadata": {},
     "output_type": "execute_result"
    }
   ],
   "source": [
    "\"What a beautiful day to learn how to program\"[:5]"
   ]
  },
  {
   "cell_type": "markdown",
   "metadata": {},
   "source": [
    "If you ever wonder how many characters (including white space and punctuations) are in any given string, you can use a function called `len()`. You put inside of the parentheses whatever it is you are evaluating, and it will give you back a single number for the addition of all of the characters in it. Len implies length of an object."
   ]
  },
  {
   "cell_type": "code",
   "execution_count": null,
   "metadata": {},
   "outputs": [],
   "source": [
    "len(\"What a beautiful day to learn how to program\")"
   ]
  },
  {
   "cell_type": "markdown",
   "metadata": {},
   "source": [
    "## Exercise 2\n",
    "\n",
    "1. Why do you want to learn data analytics? Write it down in a sentece below in the first cell. (Your sentence has to have the word data in it.)\n",
    "2. Create a slicer on the second cell that selects the word data from your string.\n",
    "3. Create a slicer that selects the word data and goes all the way to the second to last letter of your string."
   ]
  },
  {
   "cell_type": "code",
   "execution_count": 32,
   "metadata": {},
   "outputs": [
    {
     "name": "stdout",
     "output_type": "stream",
     "text": [
      "data\n",
      " analytics\n"
     ]
    }
   ],
   "source": [
    "# first cell\n",
    "excercise_2 = \"I'd like to learn data analytics because I want to get back into coding\"\n",
    "print(f\"{excercise_2[18:22]}\\n{excercise_2[22:32]}\")\n"
   ]
  },
  {
   "cell_type": "code",
   "execution_count": null,
   "metadata": {},
   "outputs": [],
   "source": [
    "# second cell\n"
   ]
  },
  {
   "cell_type": "code",
   "execution_count": null,
   "metadata": {},
   "outputs": [],
   "source": [
    "# third cell\n"
   ]
  },
  {
   "cell_type": "markdown",
   "metadata": {},
   "source": [
    "To create or print strings with multiple lines, you can add the `\\n` characters to the part of the string you would like to separate, or you can use three of the same quotation marks before and after the string you would like to create. The latter will become very useful for documenting what your code does in the future (especially when we get to functions)."
   ]
  },
  {
   "cell_type": "code",
   "execution_count": 31,
   "metadata": {},
   "outputs": [
    {
     "name": "stdout",
     "output_type": "stream",
     "text": [
      "This string\n",
      "will be separated\n",
      "into three lines!!!\n"
     ]
    }
   ],
   "source": [
    "print(\"This string\\nwill be separated\\ninto three lines!!!\")"
   ]
  },
  {
   "cell_type": "code",
   "execution_count": 30,
   "metadata": {},
   "outputs": [
    {
     "name": "stdout",
     "output_type": "stream",
     "text": [
      "Dear student,\n",
      "\n",
      "We are super excited to have you in this course.\n",
      "\n",
      "Sincerely,\n",
      "The Coder Team\n",
      "\n"
     ]
    }
   ],
   "source": [
    "print(\"\"\"Dear student,\n",
    "\n",
    "We are super excited to have you in this course.\n",
    "\n",
    "Sincerely,\n",
    "The Coder Team\n",
    "\"\"\")"
   ]
  },
  {
   "cell_type": "markdown",
   "metadata": {},
   "source": [
    "## 1.2 [Numeric Types](https://docs.python.org/3/library/stdtypes.html)"
   ]
  },
  {
   "cell_type": "markdown",
   "metadata": {},
   "source": [
    "## 1.2.1 [Integers](https://en.wikipedia.org/wiki/Integer)"
   ]
  },
  {
   "cell_type": "markdown",
   "metadata": {},
   "source": [
    "Integers are round up numbers, meaning, numbers that have no decimal values at the end."
   ]
  },
  {
   "cell_type": "code",
   "execution_count": null,
   "metadata": {},
   "outputs": [],
   "source": [
    "print(1)"
   ]
  },
  {
   "cell_type": "markdown",
   "metadata": {},
   "source": [
    "You can double check the type of a number (and anything else in Python) by wrapping the element inside the `type()` function."
   ]
  },
  {
   "cell_type": "code",
   "execution_count": 33,
   "metadata": {},
   "outputs": [
    {
     "data": {
      "text/plain": [
       "int"
      ]
     },
     "execution_count": 33,
     "metadata": {},
     "output_type": "execute_result"
    }
   ],
   "source": [
    "type(1)"
   ]
  },
  {
   "cell_type": "markdown",
   "metadata": {},
   "source": [
    "You can do multiple things inside a cell by adding a `print()` to the objects you are trying to evaluate (except for the last one), and `;` in between the code you are trying to run."
   ]
  },
  {
   "cell_type": "code",
   "execution_count": 36,
   "metadata": {},
   "outputs": [
    {
     "name": "stdout",
     "output_type": "stream",
     "text": [
      "17\n"
     ]
    },
    {
     "data": {
      "text/plain": [
       "str"
      ]
     },
     "execution_count": 36,
     "metadata": {},
     "output_type": "execute_result"
    }
   ],
   "source": [
    "print(17); type(17); type(\"17\")"
   ]
  },
  {
   "cell_type": "markdown",
   "metadata": {},
   "source": [
    "To convert a string or float values into an integer, you can use the built-in Python function `int()`."
   ]
  },
  {
   "cell_type": "code",
   "execution_count": 37,
   "metadata": {},
   "outputs": [
    {
     "name": "stdout",
     "output_type": "stream",
     "text": [
      "100\n"
     ]
    },
    {
     "data": {
      "text/plain": [
       "int"
      ]
     },
     "execution_count": 37,
     "metadata": {},
     "output_type": "execute_result"
    }
   ],
   "source": [
    "print(int('100')); type(int('100'))"
   ]
  },
  {
   "cell_type": "markdown",
   "metadata": {},
   "source": [
    "Notice that it doesn't matter if the value of a number is .5 or higher, the `int()` function will always do a floor evaluation. Meaning, it will always round down as opposed to up."
   ]
  },
  {
   "cell_type": "code",
   "execution_count": 39,
   "metadata": {},
   "outputs": [
    {
     "data": {
      "text/plain": [
       "17"
      ]
     },
     "execution_count": 39,
     "metadata": {},
     "output_type": "execute_result"
    }
   ],
   "source": [
    "int(17.8)"
   ]
  },
  {
   "cell_type": "markdown",
   "metadata": {},
   "source": [
    "Something to keep in mind is that when we convert strings into integers, we always need to verify first that our string can be represented as a number. For example:"
   ]
  },
  {
   "cell_type": "code",
   "execution_count": 40,
   "metadata": {},
   "outputs": [
    {
     "data": {
      "text/plain": [
       "23"
      ]
     },
     "execution_count": 40,
     "metadata": {},
     "output_type": "execute_result"
    }
   ],
   "source": [
    "# This will work\n",
    "int(\"23\")"
   ]
  },
  {
   "cell_type": "code",
   "execution_count": 41,
   "metadata": {},
   "outputs": [
    {
     "ename": "ValueError",
     "evalue": "invalid literal for int() with base 10: 'Twenty Three'",
     "output_type": "error",
     "traceback": [
      "\u001b[0;31m---------------------------------------------------------------------------\u001b[0m",
      "\u001b[0;31mValueError\u001b[0m                                Traceback (most recent call last)",
      "\u001b[0;32m<ipython-input-41-3018d3e09afb>\u001b[0m in \u001b[0;36m<module>\u001b[0;34m\u001b[0m\n\u001b[1;32m      1\u001b[0m \u001b[0;31m# This will not work\u001b[0m\u001b[0;34m\u001b[0m\u001b[0;34m\u001b[0m\u001b[0;34m\u001b[0m\u001b[0m\n\u001b[0;32m----> 2\u001b[0;31m \u001b[0mint\u001b[0m\u001b[0;34m(\u001b[0m\u001b[0;34m\"Twenty Three\"\u001b[0m\u001b[0;34m)\u001b[0m\u001b[0;34m\u001b[0m\u001b[0;34m\u001b[0m\u001b[0m\n\u001b[0m",
      "\u001b[0;31mValueError\u001b[0m: invalid literal for int() with base 10: 'Twenty Three'"
     ]
    }
   ],
   "source": [
    "# This will not work\n",
    "int(\"Twenty Three\")"
   ]
  },
  {
   "cell_type": "markdown",
   "metadata": {},
   "source": [
    "## 1.2.2 [Floats](https://docs.python.org/3/tutorial/floatingpoint.html)"
   ]
  },
  {
   "cell_type": "markdown",
   "metadata": {},
   "source": [
    "Floating-point numbers are numbers with decimals. No decimals and a dot at the end of a number will still evaluate the number to a float."
   ]
  },
  {
   "cell_type": "code",
   "execution_count": 42,
   "metadata": {},
   "outputs": [
    {
     "name": "stdout",
     "output_type": "stream",
     "text": [
      "1.2\n"
     ]
    }
   ],
   "source": [
    "# This is a float\n",
    "print(1.2)"
   ]
  },
  {
   "cell_type": "code",
   "execution_count": 43,
   "metadata": {},
   "outputs": [
    {
     "data": {
      "text/plain": [
       "float"
      ]
     },
     "execution_count": 43,
     "metadata": {},
     "output_type": "execute_result"
    }
   ],
   "source": [
    "# Chekc its type to make sure\n",
    "type(1.2)"
   ]
  },
  {
   "cell_type": "code",
   "execution_count": 44,
   "metadata": {},
   "outputs": [
    {
     "data": {
      "text/plain": [
       "float"
      ]
     },
     "execution_count": 44,
     "metadata": {},
     "output_type": "execute_result"
    }
   ],
   "source": [
    "# This is a float too\n",
    "type(7.)"
   ]
  },
  {
   "cell_type": "markdown",
   "metadata": {},
   "source": [
    "To convert a regular integer or a string representing a number, you can use the function `float()`."
   ]
  },
  {
   "cell_type": "code",
   "execution_count": 45,
   "metadata": {},
   "outputs": [
    {
     "data": {
      "text/plain": [
       "5.7"
      ]
     },
     "execution_count": 45,
     "metadata": {},
     "output_type": "execute_result"
    }
   ],
   "source": [
    "# this will become a float\n",
    "float(\"5.7\")"
   ]
  },
  {
   "cell_type": "code",
   "execution_count": 46,
   "metadata": {},
   "outputs": [
    {
     "data": {
      "text/plain": [
       "float"
      ]
     },
     "execution_count": 46,
     "metadata": {},
     "output_type": "execute_result"
    }
   ],
   "source": [
    "# don't believe me, check it :)\n",
    "type(float(\"5.7\"))"
   ]
  },
  {
   "cell_type": "code",
   "execution_count": 47,
   "metadata": {},
   "outputs": [
    {
     "data": {
      "text/plain": [
       "10.0"
      ]
     },
     "execution_count": 47,
     "metadata": {},
     "output_type": "execute_result"
    }
   ],
   "source": [
    "# even integers will become floats\n",
    "float(10)"
   ]
  },
  {
   "cell_type": "code",
   "execution_count": 48,
   "metadata": {},
   "outputs": [
    {
     "data": {
      "text/plain": [
       "0.4"
      ]
     },
     "execution_count": 48,
     "metadata": {},
     "output_type": "execute_result"
    }
   ],
   "source": [
    "float(.4)"
   ]
  },
  {
   "cell_type": "markdown",
   "metadata": {},
   "source": [
    "## 1.3 Booleans"
   ]
  },
  {
   "cell_type": "markdown",
   "metadata": {},
   "source": [
    "Booleans are data types represented as True or False evaluations, either of one statement or many. When we compare numbers or strings with one another, or when we try to find whether a given element is part of a list or dictionary, we are essentially creating booleans. For example,\n",
    "\n",
    "> Statement --> If the weather channel says it will rain today (this will be either True or False)\n",
    "> Action1 --> If \"True,\" I will grab my umbrella\n",
    "> Otherwise (i.e. if \"False\")\n",
    "> Action2 --> Leave umbrella at home\n",
    "\n",
    "A boolean data type is also treated as a number. Statements that evaluate to True are also equal to the number 1 in Python. In contrast, elements or statements that evaluate to False, are treated by Python as 0.\n",
    "\n",
    "Here is a list of the most commonly used boolean comparison evaluators.\n",
    "\n",
    "| Symbol | Functionality |\n",
    "|------|-----------------|\n",
    "| == | exactly equal to |\n",
    "| > | greater than |\n",
    "| < | less than |\n",
    "| >= | greater than or equal to |\n",
    "| <= | less than or equal to |\n",
    "| != | not equal to |"
   ]
  },
  {
   "cell_type": "code",
   "execution_count": null,
   "metadata": {},
   "outputs": [],
   "source": [
    "# this is Truthy\n",
    "5 > 0"
   ]
  },
  {
   "cell_type": "code",
   "execution_count": null,
   "metadata": {},
   "outputs": [],
   "source": [
    "# this is falsy\n",
    "7 < 2"
   ]
  },
  {
   "cell_type": "code",
   "execution_count": null,
   "metadata": {},
   "outputs": [],
   "source": [
    "# don't trick me, these two are the same :)\n",
    "10 == 10"
   ]
  },
  {
   "cell_type": "code",
   "execution_count": null,
   "metadata": {},
   "outputs": [],
   "source": [
    "# of course they are not the same\n",
    "22 != 15 "
   ]
  },
  {
   "cell_type": "code",
   "execution_count": null,
   "metadata": {},
   "outputs": [],
   "source": [
    "# truthy\n",
    "4 >= 4"
   ]
  },
  {
   "cell_type": "code",
   "execution_count": 51,
   "metadata": {},
   "outputs": [
    {
     "data": {
      "text/plain": [
       "3"
      ]
     },
     "execution_count": 51,
     "metadata": {},
     "output_type": "execute_result"
    }
   ],
   "source": [
    "# we can sum boolean statements\n",
    "True + True + True"
   ]
  },
  {
   "cell_type": "code",
   "execution_count": 49,
   "metadata": {},
   "outputs": [
    {
     "data": {
      "text/plain": [
       "1"
      ]
     },
     "execution_count": 49,
     "metadata": {},
     "output_type": "execute_result"
    }
   ],
   "source": [
    "# remember, these are also numbers\n",
    "True + False + False"
   ]
  },
  {
   "cell_type": "code",
   "execution_count": 53,
   "metadata": {},
   "outputs": [
    {
     "ename": "NameError",
     "evalue": "name 'random' is not defined",
     "output_type": "error",
     "traceback": [
      "\u001b[0;31m---------------------------------------------------------------------------\u001b[0m",
      "\u001b[0;31mNameError\u001b[0m                                 Traceback (most recent call last)",
      "\u001b[0;32m<ipython-input-53-9b1b28c7df03>\u001b[0m in \u001b[0;36m<module>\u001b[0;34m\u001b[0m\n\u001b[0;32m----> 1\u001b[0;31m \u001b[0mnum1\u001b[0m \u001b[0;34m=\u001b[0m \u001b[0mrandom\u001b[0m\u001b[0;34m.\u001b[0m\u001b[0mrandrange\u001b[0m\u001b[0;34m(\u001b[0m\u001b[0mstop\u001b[0m\u001b[0;34m)\u001b[0m\u001b[0;34m\u001b[0m\u001b[0;34m\u001b[0m\u001b[0m\n\u001b[0m",
      "\u001b[0;31mNameError\u001b[0m: name 'random' is not defined"
     ]
    }
   ],
   "source": [
    "num1 = "
   ]
  },
  {
   "cell_type": "markdown",
   "metadata": {},
   "source": [
    "## Exercise 3\n",
    "\n",
    "Create 3 comditions.\n",
    "1. Using floats.\n",
    "2. Compare 2 strings with one another.\n",
    "3. Use True's and False's to make an operation that sums to 10. You have to have at least 2 False's in it."
   ]
  },
  {
   "cell_type": "code",
   "execution_count": 54,
   "metadata": {},
   "outputs": [
    {
     "data": {
      "text/plain": [
       "True"
      ]
     },
     "execution_count": 54,
     "metadata": {},
     "output_type": "execute_result"
    }
   ],
   "source": [
    "# first cell\n",
    "5.3 != 5.2"
   ]
  },
  {
   "cell_type": "code",
   "execution_count": 55,
   "metadata": {},
   "outputs": [
    {
     "data": {
      "text/plain": [
       "False"
      ]
     },
     "execution_count": 55,
     "metadata": {},
     "output_type": "execute_result"
    }
   ],
   "source": [
    "# second cell\n",
    "\"Hello World\" == \"hello world\""
   ]
  },
  {
   "cell_type": "code",
   "execution_count": 56,
   "metadata": {},
   "outputs": [
    {
     "data": {
      "text/plain": [
       "10"
      ]
     },
     "execution_count": 56,
     "metadata": {},
     "output_type": "execute_result"
    }
   ],
   "source": [
    "# third cell\n",
    "True*9 + True + False + False"
   ]
  },
  {
   "cell_type": "markdown",
   "metadata": {},
   "source": [
    "Another way to evaluate booleans is with `and` and `or`. `and` will evaluate to True, if and only if, all of the elements are True."
   ]
  },
  {
   "cell_type": "code",
   "execution_count": null,
   "metadata": {},
   "outputs": [],
   "source": [
    "True and False"
   ]
  },
  {
   "cell_type": "markdown",
   "metadata": {},
   "source": [
    "You can also make multiple evaluations and compare them with `and`. Make sure to wrap the individual evaluations in a parenthesis each."
   ]
  },
  {
   "cell_type": "code",
   "execution_count": null,
   "metadata": {},
   "outputs": [],
   "source": [
    "# To make comparison statements more legible, you can wrap them around parentheses\n",
    "(1 + 1 == 2) and (10 * 10 == 100)"
   ]
  },
  {
   "cell_type": "code",
   "execution_count": null,
   "metadata": {},
   "outputs": [],
   "source": [
    "# All Trues will always be True\n",
    "True and True and True"
   ]
  },
  {
   "cell_type": "code",
   "execution_count": null,
   "metadata": {},
   "outputs": [],
   "source": [
    "# But one Falsy can spread like a virus with and's\n",
    "('students' != 'teachers') and (1000 / 10 == 100) and (4 - 2 == 3)"
   ]
  },
  {
   "cell_type": "markdown",
   "metadata": {},
   "source": [
    "On the `or` hand, this comparison operators will evaluate to True as long as there is at least one statement that is True. If both statements are false, `or` will always evaluate to False."
   ]
  },
  {
   "cell_type": "code",
   "execution_count": null,
   "metadata": {},
   "outputs": [],
   "source": [
    "False or True"
   ]
  },
  {
   "cell_type": "code",
   "execution_count": null,
   "metadata": {},
   "outputs": [],
   "source": [
    "# a least one is Truthy\n",
    "(\"job\" == 'job') or ('work' != 'play')"
   ]
  },
  {
   "cell_type": "code",
   "execution_count": null,
   "metadata": {},
   "outputs": [],
   "source": [
    "# Don't let the True False that are False True confuse you :)\n",
    "False or False"
   ]
  },
  {
   "cell_type": "markdown",
   "metadata": {},
   "source": [
    "## Exercise 4\n",
    "\n",
    "Create comparisons using `and` and `or`.\n",
    "1. Compare using `and` two numerical evaluations.\n",
    "2. Compare with `or` two string evaluations.\n",
    "3. Compare with `and` one string evaluation and one numerical evaluation.\n",
    "4. Compare with `or` a string evaluation and a `True`'s and `False`'s evaluation using `and`."
   ]
  },
  {
   "cell_type": "code",
   "execution_count": 58,
   "metadata": {},
   "outputs": [
    {
     "data": {
      "text/plain": [
       "True"
      ]
     },
     "execution_count": 58,
     "metadata": {},
     "output_type": "execute_result"
    }
   ],
   "source": [
    "# first cell\n",
    "T"
   ]
  },
  {
   "cell_type": "code",
   "execution_count": 59,
   "metadata": {},
   "outputs": [
    {
     "data": {
      "text/plain": [
       "True"
      ]
     },
     "execution_count": 59,
     "metadata": {},
     "output_type": "execute_result"
    }
   ],
   "source": [
    "# second cell\n",
    "(\"hola\" == \"hello\") or (\"mundo\" != \"world\")"
   ]
  },
  {
   "cell_type": "code",
   "execution_count": 60,
   "metadata": {},
   "outputs": [
    {
     "data": {
      "text/plain": [
       "True"
      ]
     },
     "execution_count": 60,
     "metadata": {},
     "output_type": "execute_result"
    }
   ],
   "source": [
    "# third cell\n",
    "(\"Rick\" != \"Morty\") and (239847 > 23423)"
   ]
  },
  {
   "cell_type": "code",
   "execution_count": 64,
   "metadata": {},
   "outputs": [
    {
     "data": {
      "text/plain": [
       "True"
      ]
     },
     "execution_count": 64,
     "metadata": {},
     "output_type": "execute_result"
    }
   ],
   "source": [
    "# fourth cell\n",
    "\"hellow\" != \"hello\" or 10 > 9 and 1+1 == 2"
   ]
  },
  {
   "cell_type": "code",
   "execution_count": 66,
   "metadata": {},
   "outputs": [
    {
     "data": {
      "text/plain": [
       "False"
      ]
     },
     "execution_count": 66,
     "metadata": {},
     "output_type": "execute_result"
    }
   ],
   "source": [
    "(round(5.9)==int(5.9))"
   ]
  },
  {
   "cell_type": "code",
   "execution_count": 67,
   "metadata": {},
   "outputs": [
    {
     "data": {
      "text/plain": [
       "False"
      ]
     },
     "execution_count": 67,
     "metadata": {},
     "output_type": "execute_result"
    }
   ],
   "source": [
    "(round(5.9)==float(5.9))"
   ]
  },
  {
   "cell_type": "code",
   "execution_count": 73,
   "metadata": {},
   "outputs": [
    {
     "data": {
      "text/plain": [
       "5"
      ]
     },
     "execution_count": 73,
     "metadata": {},
     "output_type": "execute_result"
    }
   ],
   "source": [
    "#round(5.9)\n",
    "int(5.9)"
   ]
  },
  {
   "cell_type": "markdown",
   "metadata": {},
   "source": [
    "# 2 Variables"
   ]
  },
  {
   "cell_type": "markdown",
   "metadata": {},
   "source": [
    "Variables are like containers that can hold information inside your session for you. You can also think of them as buckets. These buckets can hold anything you need them to hold in Python but they do have some naming conventions we need to be aware of. Let's look at some variables first and visit the naming conventions afterwards."
   ]
  },
  {
   "cell_type": "code",
   "execution_count": 68,
   "metadata": {},
   "outputs": [],
   "source": [
    "variable1 = 1"
   ]
  },
  {
   "cell_type": "code",
   "execution_count": 69,
   "metadata": {},
   "outputs": [
    {
     "name": "stdout",
     "output_type": "stream",
     "text": [
      "1\n"
     ]
    },
    {
     "data": {
      "text/plain": [
       "int"
      ]
     },
     "execution_count": 69,
     "metadata": {},
     "output_type": "execute_result"
    }
   ],
   "source": [
    "print(variable1); type(variable1)"
   ]
  },
  {
   "cell_type": "markdown",
   "metadata": {},
   "source": [
    "Variables inherit as their type, the type of their content, and their content can range from many operations to a single value."
   ]
  },
  {
   "cell_type": "code",
   "execution_count": null,
   "metadata": {},
   "outputs": [],
   "source": [
    "variable2 = 1 + 1 - 2 / 2"
   ]
  },
  {
   "cell_type": "code",
   "execution_count": null,
   "metadata": {},
   "outputs": [],
   "source": [
    "print(variable2); type(variable2)"
   ]
  },
  {
   "cell_type": "code",
   "execution_count": null,
   "metadata": {},
   "outputs": [],
   "source": [
    "variable3 = \"Hi there, this is a variable containing a string.\""
   ]
  },
  {
   "cell_type": "code",
   "execution_count": null,
   "metadata": {},
   "outputs": [],
   "source": [
    "print(variable3); type(variable3)"
   ]
  },
  {
   "cell_type": "markdown",
   "metadata": {},
   "source": [
    "A variable can also hold a variety of things, for example, a list, a list of lists, a dictionary, a dictionary of dictionary (also called a nested dictionary), a list of dictionaries, a dictionary of lists, and many more. We will see examples of this shortly."
   ]
  },
  {
   "cell_type": "markdown",
   "metadata": {},
   "source": [
    "Now that we know how variables can be created, let's talk about the naming conventions for variables.\n",
    "\n",
    "__Do's & Dont's__\n",
    "\n",
    "- A variable can only contain letters (uppercase or lowercase), underscores, and numbers  \n",
    "good --> `variable_1`  ✅  \n",
    "bad --> `vari--!#able_@`  ❌\n",
    "- Variables cannot start with numbers  \n",
    "good --> `variable_1`  ✅  \n",
    "bad --> `123_variables`  ❌\n",
    "- Variables are case sensitive  \n",
    "This variable --> `variable_1` <-- is not the same as --> `VARiable_1`\n",
    "- Variables cannot be only numbers  \n",
    "good --> `something45678`  ✅  \n",
    "bad --> `45678` ❌"
   ]
  },
  {
   "cell_type": "markdown",
   "metadata": {},
   "source": [
    "# 3 Data Structures"
   ]
  },
  {
   "cell_type": "markdown",
   "metadata": {},
   "source": [
    "## 3.1 Lists"
   ]
  },
  {
   "cell_type": "markdown",
   "metadata": {},
   "source": [
    "Lists in Python are some of the most versatile data structures available. They can hold multiple data types at the same time, and their elements can all be accessed using the same conventions as with strings plus more (we will see these later on in the lesson). We will often want to have only one data type per list, but it is important to know that more are allowed as well.\n",
    "\n",
    "To create a list you have to use square brackets `[ ]` and separate the values in them with commas `,`. Let's take a look at several examples with a single data type in each, and several in the some list."
   ]
  },
  {
   "cell_type": "code",
   "execution_count": null,
   "metadata": {},
   "outputs": [],
   "source": [
    "[1, 2, 3, 4, 5] # this is a list of numbers only"
   ]
  },
  {
   "cell_type": "code",
   "execution_count": 74,
   "metadata": {},
   "outputs": [
    {
     "data": {
      "text/plain": [
       "['Shon', 'Lori', 'Paul', 'Tyler']"
      ]
     },
     "execution_count": 74,
     "metadata": {},
     "output_type": "execute_result"
    }
   ],
   "source": [
    "['Shon', 'Lori', 'Paul', 'Tyler'] # This is a list of strings only"
   ]
  },
  {
   "cell_type": "code",
   "execution_count": null,
   "metadata": {},
   "outputs": [],
   "source": [
    "[True, False, False, True] # this is a list of booleans"
   ]
  },
  {
   "cell_type": "code",
   "execution_count": null,
   "metadata": {},
   "outputs": [],
   "source": [
    "[1, 'Ray', True, 3.7] # this is a very mixed list"
   ]
  },
  {
   "cell_type": "markdown",
   "metadata": {},
   "source": [
    "You can also have nested lists, meaning, lists within lists. These nested lists can also be thought of as matricee. We learn about matrices in more depth on week 2, so for now, let's look at two examples to satisfy our curiosity."
   ]
  },
  {
   "cell_type": "code",
   "execution_count": null,
   "metadata": {},
   "outputs": [],
   "source": [
    "[[1, 2, 3], [4, 5, 6], [7, 8, 9]] # this is a nested list"
   ]
  },
  {
   "cell_type": "code",
   "execution_count": null,
   "metadata": {},
   "outputs": [],
   "source": [
    "# this is a nested list with many data types\n",
    "[['Friend', 'Age', 'Town'],\n",
    "['Andrew', 29, 'Kansas City'],\n",
    "['Hanna', 30, 'Denver'],\n",
    "['Kristen', 27, 'New Haven']]"
   ]
  },
  {
   "cell_type": "markdown",
   "metadata": {},
   "source": [
    "We can add these lists to variables to use them immediately or later throughout the session."
   ]
  },
  {
   "cell_type": "code",
   "execution_count": null,
   "metadata": {},
   "outputs": [],
   "source": [
    "variable4 = [1, 2, 3, 4, 5]\n",
    "print(variable4); type(variable4)"
   ]
  },
  {
   "cell_type": "code",
   "execution_count": null,
   "metadata": {},
   "outputs": [],
   "source": [
    "variable5 = [[1, 2, 3], [4, 5, 6], [7, 8, 9]]\n",
    "print(variable5); type(variable5)"
   ]
  },
  {
   "cell_type": "markdown",
   "metadata": {},
   "source": [
    "## 3.2 Dictionaries"
   ]
  },
  {
   "cell_type": "markdown",
   "metadata": {},
   "source": [
    "![dictionary](https://media.giphy.com/media/l2Je66zG6mAAZxgqI/giphy.gif)"
   ]
  },
  {
   "cell_type": "markdown",
   "metadata": {},
   "source": [
    "Dictionaries are analogous data structures to what is called a hash table. These dictionaries are key-value pairs of data where the key is the name or variable of the values (it can be a string or a number), and the value is any kind of data type (e.g. a list, another dictionary, numbers, strings, booleans, etc.) or data structure (e.g. another dictionary, a list, a set, a tuple, etc.). \n",
    "\n",
    "You can initialize a dictionary in several ways:\n",
    "\n",
    "1. You can create a dictionary using brackets `var = {\"key\": value(s)}` and by separating the key and value with a column. Additional key-value pairs can be separated by a comma `,`.\n",
    "\n",
    "2. You can create a dictionary with the function `dict()`. For example, `dict(key = value, key2 = value2)`.\n",
    "\n",
    "**NOTE:** The word `dict` in Python is an actual funtion so please make sure you do not call any variable using this term since you could end up overwriting an important function."
   ]
  },
  {
   "cell_type": "code",
   "execution_count": 75,
   "metadata": {},
   "outputs": [
    {
     "data": {
      "text/plain": [
       "{'Friend': 'Alan', 'Age': 25}"
      ]
     },
     "execution_count": 75,
     "metadata": {},
     "output_type": "execute_result"
    }
   ],
   "source": [
    "# you can have strings as the keys\n",
    "{'Friend': 'Alan', \"Age\": 25}"
   ]
  },
  {
   "cell_type": "code",
   "execution_count": 76,
   "metadata": {},
   "outputs": [
    {
     "data": {
      "text/plain": [
       "{1: 'Hello',\n",
       " 2: 'I',\n",
       " 3: 'will',\n",
       " 4: 'learn',\n",
       " 5: 'a lot',\n",
       " 6: 'of Python',\n",
       " 7: 'today!'}"
      ]
     },
     "execution_count": 76,
     "metadata": {},
     "output_type": "execute_result"
    }
   ],
   "source": [
    "# You can use numbers as your keys as well\n",
    "{1: \"Hello\", 2: \"I\", 3: \"will\", 4: \"learn\", 5: \"a lot\", 6: \"of Python\", 7: \"today!\"}"
   ]
  },
  {
   "cell_type": "code",
   "execution_count": 77,
   "metadata": {},
   "outputs": [
    {
     "data": {
      "text/plain": [
       "{'friend': 'Sarah', 'age': 27}"
      ]
     },
     "execution_count": 77,
     "metadata": {},
     "output_type": "execute_result"
    }
   ],
   "source": [
    "dict(friend = 'Sarah', age = 27)"
   ]
  },
  {
   "cell_type": "markdown",
   "metadata": {},
   "source": [
    "You can create variables that contain dictionaries."
   ]
  },
  {
   "cell_type": "code",
   "execution_count": null,
   "metadata": {},
   "outputs": [],
   "source": [
    "a_dictionary = {'var1': 1,\n",
    "                'var2': 20,\n",
    "                'var3': 17}\n",
    "\n",
    "print(a_dictionary); type(a_dictionary)"
   ]
  },
  {
   "cell_type": "code",
   "execution_count": 78,
   "metadata": {},
   "outputs": [
    {
     "name": "stdout",
     "output_type": "stream",
     "text": [
      "{'age': [19, 52, 30], 'friend': ['Laura', 'Arelis', 'Lorena'], 'city': ['Rochester', 'Santiago', 'Santo Domingo']}\n"
     ]
    },
    {
     "data": {
      "text/plain": [
       "dict"
      ]
     },
     "execution_count": 78,
     "metadata": {},
     "output_type": "execute_result"
    }
   ],
   "source": [
    "a_dict_of_lists = {'age': [19, 52, 30],\n",
    "                   'friend': ['Laura', 'Arelis', 'Lorena'],\n",
    "                   'city': ['Rochester', 'Santiago', 'Santo Domingo']}\n",
    "\n",
    "print(a_dict_of_lists); type(a_dict_of_lists)"
   ]
  },
  {
   "cell_type": "markdown",
   "metadata": {},
   "source": [
    "You can also print the data contained in a key by explicitely selecting the key using square brackets. For example:"
   ]
  },
  {
   "cell_type": "code",
   "execution_count": 79,
   "metadata": {},
   "outputs": [
    {
     "name": "stdout",
     "output_type": "stream",
     "text": [
      "['Laura', 'Arelis', 'Lorena']\n"
     ]
    }
   ],
   "source": [
    "print(a_dict_of_lists['friend'])"
   ]
  },
  {
   "cell_type": "code",
   "execution_count": 80,
   "metadata": {},
   "outputs": [
    {
     "data": {
      "text/plain": [
       "list"
      ]
     },
     "execution_count": 80,
     "metadata": {},
     "output_type": "execute_result"
    }
   ],
   "source": [
    "type(a_dict_of_lists['friend'])"
   ]
  },
  {
   "cell_type": "markdown",
   "metadata": {},
   "source": [
    "Notice that if you try to search for a key that is not in the dictionary, you will receive a KeyError message."
   ]
  },
  {
   "cell_type": "code",
   "execution_count": 83,
   "metadata": {},
   "outputs": [
    {
     "data": {
      "text/plain": [
       "'Laura'"
      ]
     },
     "execution_count": 83,
     "metadata": {},
     "output_type": "execute_result"
    }
   ],
   "source": [
    "a_dict_of_lists['friend'][0]"
   ]
  },
  {
   "cell_type": "markdown",
   "metadata": {},
   "source": [
    "## Exercise 5\n",
    "\n",
    "Create a variety of data structures.\n",
    "1. Create a list of countries you would like to visit and assign it to a variable. Call this variables `countries`\n",
    "2. Create a nested list with one respresenting your favorite deserts and the other their prices. Call it, `my_weaknesses`. : )\n",
    "3. Create a dictionary with two key-value pairs. The first values should be your first list and second should be the second one. Assign it to a variable and name it however you like.\n",
    "4. Access the second key of your dictionary, print the result and then print its type."
   ]
  },
  {
   "cell_type": "code",
   "execution_count": 114,
   "metadata": {},
   "outputs": [],
   "source": [
    "# first cell\n",
    "countries = ['Iceland','Moldova','Canada']"
   ]
  },
  {
   "cell_type": "code",
   "execution_count": 115,
   "metadata": {},
   "outputs": [],
   "source": [
    "# second cell\n",
    "my_weaknesses = [['doughnut','turron','baklava'],[4.75,5.5,6.9]]"
   ]
  },
  {
   "cell_type": "code",
   "execution_count": 116,
   "metadata": {},
   "outputs": [],
   "source": [
    "# third cell\n",
    "a_dict_example = {'holiday_destination': countries, 'desserts': my_weaknesses}"
   ]
  },
  {
   "cell_type": "code",
   "execution_count": 113,
   "metadata": {},
   "outputs": [
    {
     "name": "stdout",
     "output_type": "stream",
     "text": [
      "I'd love to go to Canada and have a turron. I've heard it's only $5.5 over there.\n"
     ]
    }
   ],
   "source": [
    "# fourth cell\n",
    "print(f\"I'd love to go to {a_dict_example['holiday_destination'][2]} and have a {a_dict_example['desserts'][0][1]}. I've heard it's only ${a_dict_example['desserts'][1][1]} over there.\")"
   ]
  },
  {
   "cell_type": "markdown",
   "metadata": {},
   "source": [
    "## 3.3 Tuples"
   ]
  },
  {
   "cell_type": "markdown",
   "metadata": {},
   "source": [
    "Tuple are lists' cousins except that they are immutable. This means that the content of a tuple cannot be altered. What you can do instead is to take the elements inside a tupe out by what is called unpacking. Unpacking means taking them out of the tuple and putting them into another container (e.g. a variable) or another data structure, e.g. a list. Tuples are usually denoted with parentheses `()` or with commas `,` separating their elements.\n",
    "\n",
    "Let's evaluate some examples of this."
   ]
  },
  {
   "cell_type": "code",
   "execution_count": 118,
   "metadata": {},
   "outputs": [],
   "source": [
    "toy_list = ['legos', 'cars', 'balls']"
   ]
  },
  {
   "cell_type": "code",
   "execution_count": 120,
   "metadata": {},
   "outputs": [
    {
     "name": "stdout",
     "output_type": "stream",
     "text": [
      "['legos', 'cars', 'basketballs']\n"
     ]
    }
   ],
   "source": [
    "toy_list[2] = 'basketballs'\n",
    "print(toy_list)"
   ]
  },
  {
   "cell_type": "code",
   "execution_count": null,
   "metadata": {},
   "outputs": [],
   "source": [
    "# this is a tuple\n",
    "one_way = (1, 2, 3)\n",
    "print(one_way, type(one_way))"
   ]
  },
  {
   "cell_type": "code",
   "execution_count": null,
   "metadata": {},
   "outputs": [],
   "source": [
    "# this is a tuple as well\n",
    "another_way = 4, 5, 6\n",
    "print(another_way, type(another_way))"
   ]
  },
  {
   "cell_type": "markdown",
   "metadata": {},
   "source": [
    "A tuple with a single element should always have a comma after the element. Otherwise, Python will evaluate the element by its data type, e.g. as an `int`, `float`, or `str`."
   ]
  },
  {
   "cell_type": "code",
   "execution_count": null,
   "metadata": {},
   "outputs": [],
   "source": [
    "# this is a totally valid tuple\n",
    "good_tuple = (1,)\n",
    "print(good_tuple, type(good_tuple))"
   ]
  },
  {
   "cell_type": "code",
   "execution_count": null,
   "metadata": {},
   "outputs": [],
   "source": [
    "# this is not a tuple\n",
    "bad_tuple = (1)\n",
    "print(bad_tuple, type(bad_tuple))"
   ]
  },
  {
   "cell_type": "markdown",
   "metadata": {},
   "source": [
    "You can select element in the same fashion as with lists but remember that you cannot alter the content of a tuple."
   ]
  },
  {
   "cell_type": "code",
   "execution_count": null,
   "metadata": {},
   "outputs": [],
   "source": [
    "print(one_way[1]) # we can select elements"
   ]
  },
  {
   "cell_type": "code",
   "execution_count": null,
   "metadata": {},
   "outputs": [],
   "source": [
    "one_way[1] = 10 # but we cannot change them"
   ]
  },
  {
   "cell_type": "markdown",
   "metadata": {},
   "source": [
    "To unpack elements in a tuple we need to assign such elements to new variables or data structures."
   ]
  },
  {
   "cell_type": "code",
   "execution_count": null,
   "metadata": {},
   "outputs": [],
   "source": [
    "# Unpacking\n",
    "a, b, c = one_way"
   ]
  },
  {
   "cell_type": "code",
   "execution_count": null,
   "metadata": {},
   "outputs": [],
   "source": [
    "print(a)"
   ]
  },
  {
   "cell_type": "code",
   "execution_count": null,
   "metadata": {},
   "outputs": [],
   "source": [
    "# Change a\n",
    "a = 10\n",
    "print(a)"
   ]
  },
  {
   "cell_type": "code",
   "execution_count": null,
   "metadata": {},
   "outputs": [],
   "source": [
    "print(b)\n",
    "print(c)"
   ]
  },
  {
   "cell_type": "code",
   "execution_count": null,
   "metadata": {},
   "outputs": [],
   "source": [
    "# Change the data structure by wrapping the tuple in a list\n",
    "not_a_tuple = list(one_way)\n",
    "\n",
    "print(not_a_tuple, type(not_a_tuple))"
   ]
  },
  {
   "cell_type": "code",
   "execution_count": null,
   "metadata": {},
   "outputs": [],
   "source": [
    "not_a_tuple[2] = 15\n",
    "print(not_a_tuple) # it worked :)"
   ]
  },
  {
   "cell_type": "markdown",
   "metadata": {},
   "source": [
    "## 3.4 Sets"
   ]
  },
  {
   "cell_type": "markdown",
   "metadata": {},
   "source": [
    "Sets are the more strict cousins of lists. While lists allow for multiple data types and structures in them, sets don't like to have the same data twice in them and also can't stand its cousins, the lists and the dictionaries. They do get along with their first cousins the tuples though.\n",
    "\n",
    "To get a set started, all you need is to create a data structure with a set of brackets `{}` around, in the same fashion you would create a dictionary but without the construct of `key : value`. You can also call the function `set()` on a list or tuple and this will return a set."
   ]
  },
  {
   "cell_type": "code",
   "execution_count": null,
   "metadata": {},
   "outputs": [],
   "source": [
    "print(type((1, 2, 2, 2, 4)))\n",
    "set((1, 2, 2, 2, 4))"
   ]
  },
  {
   "cell_type": "code",
   "execution_count": null,
   "metadata": {},
   "outputs": [],
   "source": [
    "a_set = {'a', 'b', 'd', 2, 40, 3.4, True,('t', 'r', 'z')}\n",
    "b_set = set([1, 3, 'd'])\n",
    "print(a_set)\n",
    "print(b_set)"
   ]
  },
  {
   "cell_type": "markdown",
   "metadata": {},
   "source": [
    "Another important characteristic of sets is that they are unordered and like to brag about it. So much so, that if you create a set from a list or tuple and try to print its values, you will never find the same value at the same place you left it at inside the list.\n",
    "\n",
    "Key distinction:\n",
    "- A function is an object that takes in an object, does something to it or with it, and returns something. `print()` for example, is a function that takes in any object in Python and prints the output of the object for us. A function wraps itself around an object\n",
    "- A method is a special kind of function that can be applied to a specific data structure or data type. A method gets applied to an object as an extension of it.\n",
    "\n",
    "Sets, like lists, tuples, and dictionaries, have methods to add or remove elements from them. Keep in mind though that no matter how many times you try to add an element that already exists in the set, the set will always evaluate only one of the duplicated elements. For example, let's use the method `.add()` on out set `a_set` to add the letter `'a'` back into the set."
   ]
  },
  {
   "cell_type": "code",
   "execution_count": null,
   "metadata": {},
   "outputs": [],
   "source": [
    "print(a_set)\n",
    "a_set.add('a')\n",
    "print(a_set)"
   ]
  },
  {
   "cell_type": "markdown",
   "metadata": {},
   "source": [
    "As you can see, the set won't change no mater how many times you try to add an element that already exists.\n",
    "\n",
    "To remove an element you can use the method `.remove()` on the set and pass in that element you wish to remove as the argument of the method. Please note that if you try to remove an element that does not exist in the set, python will give you back an error."
   ]
  },
  {
   "cell_type": "code",
   "execution_count": null,
   "metadata": {},
   "outputs": [],
   "source": [
    "print(a_set)\n",
    "a_set.remove(2)\n",
    "print(a_set)"
   ]
  },
  {
   "cell_type": "markdown",
   "metadata": {},
   "source": [
    "If you do not wish to see an error but rather nothing if an element you wish to remove does not exist in a set, you can use the set method called, `.discard()`. It works exactly like the `.remove()` but without raising an error."
   ]
  },
  {
   "cell_type": "code",
   "execution_count": null,
   "metadata": {},
   "outputs": [],
   "source": [
    "print(a_set)\n",
    "a_set.discard(57) # no error will be raised\n",
    "print(a_set)"
   ]
  },
  {
   "cell_type": "markdown",
   "metadata": {},
   "source": [
    "There are a few more useful functionalities of sets that we will explore later on. Such functionalities are:\n",
    "\n",
    "1. `.clear()` - allows us to delete every element in a set, leaving behind an empty set of len() == 0\n",
    "2. `.union()` - combines two sets into one\n",
    "3. `.intersection()` - gives you a new set with elements common to both sets\n",
    "4. `.difference()` - gives you a new set with elements in the original set that or not in the set passed as argument\n",
    "5. `.symmetric_difference()` - gives you a new set with elements in either one set or the other, but not in both"
   ]
  },
  {
   "cell_type": "markdown",
   "metadata": {},
   "source": [
    "# 4 Printing"
   ]
  },
  {
   "cell_type": "markdown",
   "metadata": {},
   "source": [
    "Out of all of the things you will do with python, printing is probably one of the most common operations. You will print and print and print values many times to evaluate and test your code.\n",
    "\n",
    "In this section, we will cover four methods for printing output that contains, or will inside of, strings. The first is the regular method, the one we have been using so far."
   ]
  },
  {
   "cell_type": "code",
   "execution_count": null,
   "metadata": {},
   "outputs": [],
   "source": [
    "# first method\n",
    "print(\"This is regular printing job\")"
   ]
  },
  {
   "cell_type": "markdown",
   "metadata": {},
   "source": [
    "For our second method we have the `f''` string. By putting an `f` in front of a string we can signal to python that we are about to pass into the string either some variables or some evaluation of an operation. This happens by putting such variable or evaluation inside curly brackets `{}`. Let's see what this looks like."
   ]
  },
  {
   "cell_type": "code",
   "execution_count": 122,
   "metadata": {},
   "outputs": [
    {
     "name": "stdout",
     "output_type": "stream",
     "text": [
      "This and f printing job and it can be super useful!!!\n"
     ]
    }
   ],
   "source": [
    "# second method\n",
    "variable = \"and it can be super useful!!\"\n",
    "print(f\"This and f printing job {variable}!\")"
   ]
  },
  {
   "cell_type": "markdown",
   "metadata": {},
   "source": [
    "The next option uses the string method `.format()`. Similar to the `f` string, `.format()` allows us to pass in key-values pairs or only arguments, and it will place them inside of the curly brackets inside the string."
   ]
  },
  {
   "cell_type": "code",
   "execution_count": null,
   "metadata": {},
   "outputs": [],
   "source": [
    "print(\"Hi! This is a {var} printing job!\".format(var=\"formatted\"))"
   ]
  },
  {
   "cell_type": "code",
   "execution_count": 124,
   "metadata": {},
   "outputs": [
    {
     "name": "stdout",
     "output_type": "stream",
     "text": [
      "I am 27 years old!\n"
     ]
    }
   ],
   "source": [
    "my_age = 27\n",
    "print(f\"I am {my_age} years old!\")"
   ]
  },
  {
   "cell_type": "code",
   "execution_count": 125,
   "metadata": {},
   "outputs": [
    {
     "data": {
      "text/plain": [
       "'HELLO UNIVERSE'"
      ]
     },
     "execution_count": 125,
     "metadata": {},
     "output_type": "execute_result"
    }
   ],
   "source": [
    "\"HELLO UNIVERSE\""
   ]
  },
  {
   "cell_type": "code",
   "execution_count": 126,
   "metadata": {},
   "outputs": [
    {
     "data": {
      "text/plain": [
       "'hello universe'"
      ]
     },
     "execution_count": 126,
     "metadata": {},
     "output_type": "execute_result"
    }
   ],
   "source": [
    "str.lower(\"HELLO UNIVERSE\")\n"
   ]
  },
  {
   "cell_type": "markdown",
   "metadata": {},
   "source": [
    "## Exercise 6\n",
    "Try all 3 variations with examples of food, sports, and vacation destinations."
   ]
  },
  {
   "cell_type": "markdown",
   "metadata": {},
   "source": [
    "Variation 1"
   ]
  },
  {
   "cell_type": "code",
   "execution_count": 127,
   "metadata": {},
   "outputs": [
    {
     "name": "stdout",
     "output_type": "stream",
     "text": [
      "foo\n"
     ]
    }
   ],
   "source": [
    "print(\"foo\")"
   ]
  },
  {
   "cell_type": "markdown",
   "metadata": {},
   "source": [
    "Variation 2"
   ]
  },
  {
   "cell_type": "code",
   "execution_count": 131,
   "metadata": {},
   "outputs": [
    {
     "name": "stdout",
     "output_type": "stream",
     "text": [
      "Set timer for 1 hours and 2 minutes\n"
     ]
    }
   ],
   "source": [
    "a = 1\n",
    "b = 2\n",
    "print(f\"Set timer for {a} hours and {b} minutes\")"
   ]
  },
  {
   "cell_type": "markdown",
   "metadata": {},
   "source": [
    "Variation 3"
   ]
  },
  {
   "cell_type": "code",
   "execution_count": 136,
   "metadata": {},
   "outputs": [
    {
     "name": "stdout",
     "output_type": "stream",
     "text": [
      "Buy beers\n"
     ]
    }
   ],
   "source": [
    "print('Buy {product}'.format(product=\"beers\"))"
   ]
  },
  {
   "cell_type": "markdown",
   "metadata": {},
   "source": [
    "There is one another way to print values coming from specific data types and that is with percentage signs inside a string. For example, a `%s` inside a string and the `%` outside of it will point to the nearest object of that data type **NOTE:** s is for string, i is for integer and f is for float. Let's look at three examples of this."
   ]
  },
  {
   "cell_type": "code",
   "execution_count": 137,
   "metadata": {},
   "outputs": [
    {
     "name": "stdout",
     "output_type": "stream",
     "text": [
      "Hi, Everyone! My name is Ramon and I am 28 years young! :)\n"
     ]
    }
   ],
   "source": [
    "my_age = 28\n",
    "print(\"Hi, Everyone! My name is Ramon and I am %i years young! :)\" % my_age)"
   ]
  },
  {
   "cell_type": "markdown",
   "metadata": {},
   "source": [
    "You can also pass in mutiple arguments. They need to be wrapped inside parentheses though."
   ]
  },
  {
   "cell_type": "code",
   "execution_count": 138,
   "metadata": {},
   "outputs": [
    {
     "name": "stdout",
     "output_type": "stream",
     "text": [
      "This course began on the last Saturday of the month of October, 2020.\n"
     ]
    }
   ],
   "source": [
    "day = \"Saturday\"\n",
    "month = \"October\"\n",
    "\n",
    "print(\"This course began on the last %s of the month of %s, 2020.\" % (day, month))\n",
    "# don't forget to wrap the arguments after the % sign in parenthesis"
   ]
  },
  {
   "cell_type": "markdown",
   "metadata": {},
   "source": [
    "You can also add operations with these methods for printing strings. We talk more about math in Python in the next section."
   ]
  },
  {
   "cell_type": "code",
   "execution_count": 141,
   "metadata": {},
   "outputs": [
    {
     "name": "stdout",
     "output_type": "stream",
     "text": [
      "Have you tried to divide 1 by 3 and mulply the result, 0.333333, back?\n"
     ]
    }
   ],
   "source": [
    "num1 = 1\n",
    "num2 = 3\n",
    "\n",
    "print(\"Have you tried to divide %i by %i and mulply the result, %f, back?\" % (num1, num2, num1 / num2))"
   ]
  },
  {
   "cell_type": "markdown",
   "metadata": {},
   "source": [
    "# 5 Math"
   ]
  },
  {
   "cell_type": "markdown",
   "metadata": {},
   "source": [
    "Python supports all kinds of calculations and in this section, we'll go over all of the basic operations this poweful programming language can do for us. In order to do math well in Python, you will be using (some more than others) the following notations very often.\n",
    "\n",
    "| Operator | What this does! |\n",
    "|------|---------------------|\n",
    "|  \\+  |  Addition           |\n",
    "|  \\-  |  Subtraction        |\n",
    "|  \\*  |  Multiplication     |\n",
    "|  \\** |  Exponentiation     |\n",
    "|  \\/  |  Division           |\n",
    "|   %  |  Modulo or remainder|\n",
    "|  //  |  Floor division     |\n",
    "\n",
    "\n",
    "Operator is the appropriate terminology of our math enablers. They evaluate some arguments (data) and return a result for us.\n",
    "\n",
    "Expressions, typing `10 + 20` in a cell or in the interactive shell, represents operators and the results are values that more often than not will end up giving us a number back. It is important to note that these are very different from strings and other data types. For example, `print(True + True)` will give us a `2` back with a type `int` but writing `print(\"2\" + \"2\")` will give us a `\"22\"` back with a type `str`."
   ]
  },
  {
   "cell_type": "code",
   "execution_count": 142,
   "metadata": {},
   "outputs": [
    {
     "name": "stdout",
     "output_type": "stream",
     "text": [
      "2\n"
     ]
    }
   ],
   "source": [
    "# summing booleans\n",
    "print(True + True)"
   ]
  },
  {
   "cell_type": "code",
   "execution_count": 143,
   "metadata": {},
   "outputs": [
    {
     "name": "stdout",
     "output_type": "stream",
     "text": [
      "13\n"
     ]
    }
   ],
   "source": [
    "# adding ints\n",
    "print(6 + 7)"
   ]
  },
  {
   "cell_type": "code",
   "execution_count": 144,
   "metadata": {},
   "outputs": [
    {
     "name": "stdout",
     "output_type": "stream",
     "text": [
      "5\n"
     ]
    }
   ],
   "source": [
    "# subtracting ints\n",
    "print(9 - 4)"
   ]
  },
  {
   "cell_type": "code",
   "execution_count": 145,
   "metadata": {},
   "outputs": [
    {
     "name": "stdout",
     "output_type": "stream",
     "text": [
      "-10.5\n"
     ]
    }
   ],
   "source": [
    "# multiplying floats\n",
    "print(3 * -3.5)"
   ]
  },
  {
   "cell_type": "code",
   "execution_count": 146,
   "metadata": {},
   "outputs": [
    {
     "name": "stdout",
     "output_type": "stream",
     "text": [
      "4.0\n"
     ]
    }
   ],
   "source": [
    "# divisions always return floats\n",
    "print(24 / 6) "
   ]
  },
  {
   "cell_type": "code",
   "execution_count": 147,
   "metadata": {},
   "outputs": [
    {
     "name": "stdout",
     "output_type": "stream",
     "text": [
      "49\n"
     ]
    }
   ],
   "source": [
    "# exponentiation\n",
    "print(7 ** 2)"
   ]
  },
  {
   "cell_type": "code",
   "execution_count": 148,
   "metadata": {},
   "outputs": [
    {
     "name": "stdout",
     "output_type": "stream",
     "text": [
      "3\n"
     ]
    }
   ],
   "source": [
    "# modulo returns the remainder of a division\n",
    "print(21 % 9)"
   ]
  },
  {
   "cell_type": "code",
   "execution_count": 149,
   "metadata": {},
   "outputs": [
    {
     "name": "stdout",
     "output_type": "stream",
     "text": [
      "2\n"
     ]
    }
   ],
   "source": [
    "# floor division rounds the result down regardless of the number in the decimal places\n",
    "print(21 // 9)"
   ]
  },
  {
   "cell_type": "markdown",
   "metadata": {},
   "source": [
    "Let's do the same but with variables now. Remember the PEMDAS acronym from high school (Parenthesis, Exponents, Multiplication, Division, and Subtraction).?"
   ]
  },
  {
   "cell_type": "code",
   "execution_count": 150,
   "metadata": {},
   "outputs": [
    {
     "name": "stdout",
     "output_type": "stream",
     "text": [
      "5\n"
     ]
    }
   ],
   "source": [
    "# First we create two variables\n",
    "num1 = 7\n",
    "num2 = 3\n",
    "num3 = -5\n",
    "\n",
    "# adding numbers as variables\n",
    "new_var = num1 + num2 + num3\n",
    "print(new_var)"
   ]
  },
  {
   "cell_type": "code",
   "execution_count": 151,
   "metadata": {},
   "outputs": [
    {
     "name": "stdout",
     "output_type": "stream",
     "text": [
      "21\n"
     ]
    }
   ],
   "source": [
    "# multiplying numbers as variables\n",
    "new_var_2 = num1 * num2\n",
    "print(new_var_2)"
   ]
  },
  {
   "cell_type": "code",
   "execution_count": 152,
   "metadata": {},
   "outputs": [
    {
     "name": "stdout",
     "output_type": "stream",
     "text": [
      "4.2\n"
     ]
    }
   ],
   "source": [
    "# multiplying and dividing, order matters?\n",
    "new_var_3 = (num1 * num2) / new_var\n",
    "print(new_var_3)"
   ]
  },
  {
   "cell_type": "code",
   "execution_count": 153,
   "metadata": {},
   "outputs": [
    {
     "name": "stdout",
     "output_type": "stream",
     "text": [
      "74.08800000000001\n"
     ]
    }
   ],
   "source": [
    "# does order matter here?\n",
    "new_var_4 = ((num1 * num2) / new_var) ** num2\n",
    "print(new_var_4)"
   ]
  },
  {
   "cell_type": "code",
   "execution_count": 154,
   "metadata": {},
   "outputs": [
    {
     "name": "stdout",
     "output_type": "stream",
     "text": [
      "78.28800000000001\n"
     ]
    }
   ],
   "source": [
    "# full PEMDAS\n",
    "new_var_5 = (((num1 * num2) / new_var) ** num2) + new_var_3\n",
    "print(new_var_5)"
   ]
  },
  {
   "cell_type": "markdown",
   "metadata": {},
   "source": [
    "We can also add and multiply other data types such as strings and booleans, and also lists, numpy arrays (more on numpy on the next module), and a few others that are out of the scope of the course, but, that I hope you do end up finding more about as you continue to learn Python."
   ]
  },
  {
   "cell_type": "code",
   "execution_count": 155,
   "metadata": {},
   "outputs": [
    {
     "data": {
      "text/plain": [
       "'Coder AcademyCoder AcademyCoder Academy'"
      ]
     },
     "execution_count": 155,
     "metadata": {},
     "output_type": "execute_result"
    }
   ],
   "source": [
    "'Coder Academy' * 3"
   ]
  },
  {
   "cell_type": "code",
   "execution_count": 156,
   "metadata": {},
   "outputs": [
    {
     "data": {
      "text/plain": [
       "'Coder Academy'"
      ]
     },
     "execution_count": 156,
     "metadata": {},
     "output_type": "execute_result"
    }
   ],
   "source": [
    "'Coder ' + 'Academy'"
   ]
  },
  {
   "cell_type": "code",
   "execution_count": 157,
   "metadata": {},
   "outputs": [
    {
     "data": {
      "text/plain": [
       "[1, 2, 3, 4, 5, 6, 7, 8]"
      ]
     },
     "execution_count": 157,
     "metadata": {},
     "output_type": "execute_result"
    }
   ],
   "source": [
    "[1, 2, 3, 4] + [5, 6, 7, 8]"
   ]
  },
  {
   "cell_type": "code",
   "execution_count": 158,
   "metadata": {},
   "outputs": [
    {
     "data": {
      "text/plain": [
       "['one', 2, 'three', 'one', 2, 'three', 'one', 2, 'three']"
      ]
     },
     "execution_count": 158,
     "metadata": {},
     "output_type": "execute_result"
    }
   ],
   "source": [
    "['one', 2, 'three'] * 3"
   ]
  },
  {
   "cell_type": "markdown",
   "metadata": {},
   "source": [
    "When you create a variable that points to a unique value or a data structure, you can compute inplace math operations on them using the following commands:\n",
    "\n",
    "| Operator |     What this does!             |\n",
    "|----------|---------------------------------|\n",
    "|    \\+=   |  Add and assign                 |\n",
    "|    \\-=   |  Subtraction and assign         |\n",
    "|    \\*=   |  Multiplication and assign      |\n",
    "|    \\**=  |  Exponentiation and assign      |\n",
    "|    \\/=   |  Division and assign            |\n",
    "|     %=   |  Modulo or remainder and assign |\n",
    "|    //=   |  Floor division and assign      |\n",
    "\n",
    "This means that whatever you add, subtract, multiply, etc. from your variable will stay with that variable."
   ]
  },
  {
   "cell_type": "code",
   "execution_count": 159,
   "metadata": {},
   "outputs": [],
   "source": [
    "a_number = 7"
   ]
  },
  {
   "cell_type": "code",
   "execution_count": 160,
   "metadata": {},
   "outputs": [
    {
     "name": "stdout",
     "output_type": "stream",
     "text": [
      "This variable is now 10.\n"
     ]
    }
   ],
   "source": [
    "a_number += 3\n",
    "print(f\"This variable is now {a_number}.\")"
   ]
  },
  {
   "cell_type": "code",
   "execution_count": 161,
   "metadata": {},
   "outputs": [
    {
     "name": "stdout",
     "output_type": "stream",
     "text": [
      "But it now went back to being a 7.\n"
     ]
    }
   ],
   "source": [
    "a_number -= 3\n",
    "print(\"But it now went back to being a {}.\".format(a_number))"
   ]
  },
  {
   "cell_type": "code",
   "execution_count": 162,
   "metadata": {},
   "outputs": [
    {
     "name": "stdout",
     "output_type": "stream",
     "text": [
      "If we were to divide it by 7 we would get a 1.\n"
     ]
    }
   ],
   "source": [
    "a_number /= 7\n",
    "print(\"If we were to divide it by 7 we would get a %i.\" % (a_number))"
   ]
  },
  {
   "cell_type": "code",
   "execution_count": 163,
   "metadata": {},
   "outputs": [
    {
     "name": "stdout",
     "output_type": "stream",
     "text": [
      "And if we multiply it by 20 we would then get a 20.0\n"
     ]
    }
   ],
   "source": [
    "a_number *= 20\n",
    "print(\"And if we multiply it by 20 we would then get a {num}\".format(num=a_number))"
   ]
  },
  {
   "cell_type": "code",
   "execution_count": 164,
   "metadata": {},
   "outputs": [
    {
     "name": "stdout",
     "output_type": "stream",
     "text": [
      "The remainder after dividing by 7 would be 🤔 6.0\n"
     ]
    }
   ],
   "source": [
    "a_number %= 7\n",
    "print(f\"The remainder after dividing by 7 would be 🤔 {a_number}\")"
   ]
  },
  {
   "cell_type": "code",
   "execution_count": 165,
   "metadata": {},
   "outputs": [
    {
     "name": "stdout",
     "output_type": "stream",
     "text": [
      "What would happen if we raise 6.0 to the power of 2 --> 36.0\n"
     ]
    }
   ],
   "source": [
    "a_number **= 2\n",
    "print(f\"What would happen if we raise 6.0 to the power of 2 --> {a_number}\")"
   ]
  },
  {
   "cell_type": "markdown",
   "metadata": {},
   "source": [
    "# 6 Packages, Libraries, and Modules"
   ]
  },
  {
   "cell_type": "markdown",
   "metadata": {},
   "source": [
    "Programming languages are very diverse creatures composed of built-in functionalities and add-ons. These functionalities and add-ons are pieces of code grouped that are useful for a particular problem or task. This means that when we initiate a Python session either through the command line or in a Jupyter Notebook, we don't immediately have all of its most useful tools available in the session, rather, it lets us pick and choose whatever we need, when we need it. \n",
    "\n",
    "For example, to use a built-in mathematical function that gets us the square root of a number, we would have to `import` the library `math` first and then call the method `.sqrt(49)` on math to get the result we want. We could create our own function to do this, but that would imply we would have to do this everytime we wanted to use that function for a task (\"not a very productive thing to do\").\n",
    "\n",
    "To import these additional libraries of code we need to use the `import` expression, or a variation/combination of it. Let's go over our previous example of math again but with code now."
   ]
  },
  {
   "cell_type": "markdown",
   "metadata": {},
   "source": [
    "## 6.1 Importing Packages"
   ]
  },
  {
   "cell_type": "code",
   "execution_count": 166,
   "metadata": {},
   "outputs": [],
   "source": [
    "import math # first import the library you need"
   ]
  },
  {
   "cell_type": "code",
   "execution_count": 168,
   "metadata": {},
   "outputs": [
    {
     "data": {
      "text/plain": [
       "7.0"
      ]
     },
     "execution_count": 168,
     "metadata": {},
     "output_type": "execute_result"
    }
   ],
   "source": [
    "# You can than call the method you need by typing the library name, followed by a dot, and then the method\n",
    "math.sqrt(49)"
   ]
  },
  {
   "cell_type": "markdown",
   "metadata": {},
   "source": [
    "Another way to import libraries is by using an alias. This is particularly useful with libraries with very long names and typing them every time would decrease our productivity."
   ]
  },
  {
   "cell_type": "code",
   "execution_count": 169,
   "metadata": {},
   "outputs": [],
   "source": [
    "import multiprocessing"
   ]
  },
  {
   "cell_type": "code",
   "execution_count": 172,
   "metadata": {},
   "outputs": [],
   "source": [
    "import multiprocessing as mp"
   ]
  },
  {
   "cell_type": "code",
   "execution_count": 170,
   "metadata": {},
   "outputs": [],
   "source": [
    "# Here we will import math with the alias ma\n",
    "import math as ma"
   ]
  },
  {
   "cell_type": "code",
   "execution_count": 171,
   "metadata": {},
   "outputs": [
    {
     "data": {
      "text/plain": [
       "7.0"
      ]
     },
     "execution_count": 171,
     "metadata": {},
     "output_type": "execute_result"
    }
   ],
   "source": [
    "ma.sqrt(49)"
   ]
  },
  {
   "cell_type": "markdown",
   "metadata": {},
   "source": [
    "Sometimes we only want to use a single function from a library, thus, we don't want to import the whole library if we won't be using it. In the following example, we take `sqrt` out of the math package."
   ]
  },
  {
   "cell_type": "code",
   "execution_count": null,
   "metadata": {},
   "outputs": [],
   "source": [
    "# Here is how we can import a standalone function from a library\n",
    "from math import sqrt"
   ]
  },
  {
   "cell_type": "code",
   "execution_count": null,
   "metadata": {},
   "outputs": [],
   "source": [
    "sqrt(49)"
   ]
  },
  {
   "cell_type": "markdown",
   "metadata": {},
   "source": [
    "We can also add aliases to functions of a library, we would first have to import the function we want and then at the same time and rename it using the convention `as`."
   ]
  },
  {
   "cell_type": "code",
   "execution_count": null,
   "metadata": {},
   "outputs": [],
   "source": [
    "from math import sqrt as sq"
   ]
  },
  {
   "cell_type": "code",
   "execution_count": null,
   "metadata": {},
   "outputs": [],
   "source": [
    "sq(36)"
   ]
  },
  {
   "cell_type": "markdown",
   "metadata": {},
   "source": [
    "One other thing we could do, but more often than not don't want to do, is to import every functionality of a library as a standalone element that we can use. The reason why we might not want to do this is because we will most-likely have conflicting methods and functions throughout our session. For example, naming a variable `sqrt` and also importing the function `sqrt` from the `math` module could potentially cause us problems.\n",
    "\n",
    "One other reason would be that if we are collaborating with other team members, the practice of importing everything at once could decrease their productivity. If every time they get some code from us they had to go through it to decipher which functions to import or use with a regular method or note (e.g. `library.method()`), this could be a very painful process for your team members."
   ]
  },
  {
   "cell_type": "code",
   "execution_count": null,
   "metadata": {},
   "outputs": [],
   "source": [
    "# Don't do this ⚠️❌⚠️\n",
    "from math import *"
   ]
  },
  {
   "cell_type": "markdown",
   "metadata": {},
   "source": [
    "To figure out which functions exist in a given package you can use the `dir()` function on the package once you load it into your environment."
   ]
  },
  {
   "cell_type": "code",
   "execution_count": null,
   "metadata": {
    "scrolled": true
   },
   "outputs": [],
   "source": [
    "import math # load package\n",
    "dir(math)"
   ]
  },
  {
   "cell_type": "markdown",
   "metadata": {},
   "source": [
    "With some packages, it is easier to figure out what their functions do by looking at the name, but with others, it might not be as easy. One way to check out the information on an object is to use the `help()` function with such object. Another way to get information about a function or package is by using `?` or `??` at the beginning or end of its name."
   ]
  },
  {
   "cell_type": "code",
   "execution_count": null,
   "metadata": {},
   "outputs": [],
   "source": [
    "help(math.cos)"
   ]
  },
  {
   "cell_type": "code",
   "execution_count": null,
   "metadata": {},
   "outputs": [],
   "source": [
    "print??"
   ]
  },
  {
   "cell_type": "code",
   "execution_count": null,
   "metadata": {},
   "outputs": [],
   "source": [
    "math.cos?"
   ]
  },
  {
   "cell_type": "markdown",
   "metadata": {},
   "source": [
    "## 6.2 Installing New Packages"
   ]
  },
  {
   "cell_type": "markdown",
   "metadata": {},
   "source": [
    "There will be plenty of times where you will need download, or benefit from downloading, a package that is not already installed in your machine. There are several ways for downloading packages in python and the two preffered ones are `pip` and `conda`.\n",
    "\n",
    "`pip` is a python package installer that is run from the command line. It uses the following syntax to install a package.\n",
    "\n",
    "```shell\n",
    "pip install some_package\n",
    "```\n",
    "\n",
    "NOTE: If you are using a mac you might need to use `pip3` instead of plain `pip`. That is because up until now, most MacOS versions still come with python 2.7 pre-installed, which means that the command pip points to that version of Python and not one you have installed which is one of the newest ones.\n",
    "\n",
    "Conda is the package manager of Anaconda. It is very useful to use conda if you plan on continuing to use the Anaconda distribution for coding in python. Here is how the syntax for installing a package with Anaconda looks like.\n",
    "\n",
    "```sh\n",
    "conda install some_package\n",
    "```\n",
    "\n",
    "To run command line arguments inside a JupyterLab session you have to prefix the command with an exclamation mark **`!`**, and then run it as usual with `Shift + Enter`."
   ]
  },
  {
   "cell_type": "code",
   "execution_count": null,
   "metadata": {},
   "outputs": [],
   "source": [
    "!pip install pprint"
   ]
  },
  {
   "cell_type": "markdown",
   "metadata": {},
   "source": [
    "## Exercise 7\n",
    "\n",
    "1. Go to [PyPI](https://pypi.org/), find a package (any package), and install it using `pip` in the cell below.\n",
    "2. Go to the [conda packages website](https://anaconda.org/anaconda/repo), pick a package, and install it using conda."
   ]
  },
  {
   "cell_type": "code",
   "execution_count": 173,
   "metadata": {},
   "outputs": [
    {
     "name": "stdout",
     "output_type": "stream",
     "text": [
      "Collecting random_json\n",
      "  Downloading random_json-0.0.3.tar.gz (1.3 kB)\n",
      "Building wheels for collected packages: random-json\n",
      "  Building wheel for random-json (setup.py) ... \u001b[?25ldone\n",
      "\u001b[?25h  Created wheel for random-json: filename=random_json-0.0.3-py3-none-any.whl size=1995 sha256=1b878b12f460d3f4fa5175d19214bf8aa51d64828d7af65a8b1f3699b206a8f4\n",
      "  Stored in directory: /Users/gonzalo/Library/Caches/pip/wheels/38/44/9b/a452f03af93dcf4b25ee94275a7d3d5d6ee9c70885f5ea6068\n",
      "Successfully built random-json\n",
      "Installing collected packages: random-json\n",
      "Successfully installed random-json-0.0.3\n"
     ]
    }
   ],
   "source": [
    "# install a package with pip\n",
    "!pip install random_json"
   ]
  },
  {
   "cell_type": "code",
   "execution_count": 174,
   "metadata": {},
   "outputs": [
    {
     "name": "stdout",
     "output_type": "stream",
     "text": [
      "Collecting package metadata (current_repodata.json): done\n",
      "Solving environment: failed with initial frozen solve. Retrying with flexible solve.\n",
      "Solving environment: failed with repodata from current_repodata.json, will retry with next repodata source.\n",
      "Collecting package metadata (repodata.json): done\n",
      "Solving environment: failed with initial frozen solve. Retrying with flexible solve.\n",
      "Solving environment: \\ \n",
      "Found conflicts! Looking for incompatible packages.\n",
      "This can take several minutes.  Press CTRL-C to abort.\n",
      "Examining conflict for intervaltree lxml multipledispatch pydocstyle tk numba - ^C\n",
      "                                                                               failed\n",
      "\n",
      "CondaError: KeyboardInterrupt\n",
      "\n"
     ]
    }
   ],
   "source": [
    "# install a package with conda\n",
    "!conda install -c conda-forge rb-jekyll-seo-tag -y"
   ]
  },
  {
   "cell_type": "code",
   "execution_count": null,
   "metadata": {},
   "outputs": [],
   "source": []
  },
  {
   "cell_type": "markdown",
   "metadata": {},
   "source": [
    "# 7 The `input()` Command\n",
    "\n",
    "In order to use Python to interact with users, we can use the very useful `input()` command. For example, run the following cell and type anything you'd like at the prompt. **Note:** you only need to press enter once the input prompt comes up and you have finished typing."
   ]
  },
  {
   "cell_type": "code",
   "execution_count": null,
   "metadata": {},
   "outputs": [],
   "source": [
    "input()"
   ]
  },
  {
   "cell_type": "markdown",
   "metadata": {},
   "source": [
    "You can also pass add strings to your `input()` command to signal to the user what you would like them to input and how."
   ]
  },
  {
   "cell_type": "code",
   "execution_count": null,
   "metadata": {},
   "outputs": [],
   "source": [
    "input(\"Please type your name here: \")"
   ]
  },
  {
   "cell_type": "markdown",
   "metadata": {},
   "source": [
    "We can also add whatever our users type to a variable."
   ]
  },
  {
   "cell_type": "code",
   "execution_count": null,
   "metadata": {},
   "outputs": [],
   "source": [
    "user_name = input(\"Please type your name here: \")"
   ]
  },
  {
   "cell_type": "code",
   "execution_count": null,
   "metadata": {},
   "outputs": [],
   "source": [
    "user_age = input(\"Please type your age here: \")"
   ]
  },
  {
   "cell_type": "code",
   "execution_count": null,
   "metadata": {},
   "outputs": [],
   "source": [
    "print(user_name, user_age)"
   ]
  },
  {
   "cell_type": "markdown",
   "metadata": {},
   "source": [
    "# 8. Summary\n",
    "\n",
    "1. To work in and with Python we need to understand the data Python understands. These data types can be strings, integers, floats (floating point numbers), and booleans.\n",
    "2. To hold on to the data we need we use a combination of variables and data structures. Variables are like buckets that hold information holders in for us, and data structures are these information hlders that contain multiple bits of information in them. \n",
    "3. Data structures can be lists, dictionaries, tuples, sets, and we can even create our own data structures if we'd like.\n",
    "4. A lot of people have written very useful code that we can take advantage of to save time when we code or, in general, to be more productive. They have packaged their code into libraries and we can download them using `pip` or `conda` in the command line.\n",
    "5. Python allows us to do math even more efficiently that with a regular calculator and it gives us many useful functionalities to modify multiple data types with math operators.\n",
    "6. To ask the users of our programs to tell us things, we take advantage of the `input()` function."
   ]
  }
 ],
 "metadata": {
  "kernelspec": {
   "display_name": "Python 3",
   "language": "python",
   "name": "python3"
  },
  "language_info": {
   "codemirror_mode": {
    "name": "ipython",
    "version": 3
   },
   "file_extension": ".py",
   "mimetype": "text/x-python",
   "name": "python",
   "nbconvert_exporter": "python",
   "pygments_lexer": "ipython3",
   "version": "3.8.3"
  }
 },
 "nbformat": 4,
 "nbformat_minor": 4
}
