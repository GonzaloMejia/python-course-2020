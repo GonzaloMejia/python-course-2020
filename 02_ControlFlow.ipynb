{
 "cells": [
  {
   "cell_type": "markdown",
   "metadata": {},
   "source": [
    "# Lesson 3 - Control Flow"
   ]
  },
  {
   "cell_type": "markdown",
   "metadata": {},
   "source": [
    "> _\"I would rather have questions that can't be answered than answers that can't be questioned.\"_ Richard P. Feynman\n",
    "\n",
    "> _\"A problem well-put is half-solved.\"_ ~ John Dewey\n",
    "\n",
    "> _\"The value of an idea lies in the using of it.\"_ Thomas A. Edison"
   ]
  },
  {
   "cell_type": "markdown",
   "metadata": {},
   "source": [
    "![aha](https://mir-s3-cdn-cf.behance.net/project_modules/1400_opt_1/29116e34486525.59fe20c7d33b9.png)\n",
    "\n",
    "**Source:** Beautiful visualization by [Behance and team](https://www.behance.net/gallery/34486525/Dataviz-Migrations)"
   ]
  },
  {
   "cell_type": "markdown",
   "metadata": {},
   "source": [
    "There are 3 essential aspects of programming that can help any data analyst understand some of the key elements of computing (solving problems), and automating processes. These are conditional statements, loops, and functions and we will be looking at all three in that order in this section.\n",
    "\n",
    "1. Conditional Statements\n",
    "2. Loops\n",
    "3. Functions"
   ]
  },
  {
   "cell_type": "markdown",
   "metadata": {},
   "source": [
    "# 1 Conditional Statements"
   ]
  },
  {
   "cell_type": "markdown",
   "metadata": {},
   "source": [
    "Conditional stamenets, or, as they are often called, if-then statements, allow us to provide our commands and programs with specific criteria in order to do what they have been told to do. If-then statements work alogside booleans, which were first introduced earlier in the lesson and are abstractions of instructions or commands that evaluate to `True` or `False`. They allow us to compare statements, expressions, objects, etc., and perform specific actions given the boolean evaluation. Essentially give us back 👍🏼 or a 👎🏼 when they finish.\n",
    "\n",
    "Here are the symbols for boolean operations again.\n",
    "\n",
    "\n",
    "| Symbol | Functionality |\n",
    "|------|-----------------|\n",
    "| == | exactly equal to |\n",
    "| > | greater than |\n",
    "| < | less than |\n",
    "| >= | greater than or equal to |\n",
    "| <= | less than or equal to |\n",
    "| != | not equal to |"
   ]
  },
  {
   "cell_type": "code",
   "execution_count": 1,
   "metadata": {},
   "outputs": [
    {
     "data": {
      "text/plain": [
       "False"
      ]
     },
     "execution_count": 1,
     "metadata": {},
     "output_type": "execute_result"
    }
   ],
   "source": [
    "13 == 15"
   ]
  },
  {
   "cell_type": "code",
   "execution_count": 2,
   "metadata": {},
   "outputs": [
    {
     "data": {
      "text/plain": [
       "True"
      ]
     },
     "execution_count": 2,
     "metadata": {},
     "output_type": "execute_result"
    }
   ],
   "source": [
    "13 < 15"
   ]
  },
  {
   "cell_type": "markdown",
   "metadata": {},
   "source": [
    "Different data types can also be compare with each other but notice that this will almost alway evaluate to false since different data types can never be equal. For example:"
   ]
  },
  {
   "cell_type": "code",
   "execution_count": 3,
   "metadata": {},
   "outputs": [
    {
     "data": {
      "text/plain": [
       "False"
      ]
     },
     "execution_count": 3,
     "metadata": {},
     "output_type": "execute_result"
    }
   ],
   "source": [
    "5 == 5.7 # int vs float"
   ]
  },
  {
   "cell_type": "code",
   "execution_count": 4,
   "metadata": {},
   "outputs": [
    {
     "data": {
      "text/plain": [
       "False"
      ]
     },
     "execution_count": 4,
     "metadata": {},
     "output_type": "execute_result"
    }
   ],
   "source": [
    "5 == '5' # in vs string"
   ]
  },
  {
   "cell_type": "markdown",
   "metadata": {},
   "source": [
    "You can also think of boolean operations as expressions that can reduce large computations, such as a comparison of two formulas, to a single True or False value (e.g. yes, this is okay, no, this is not okay).\n",
    "\n",
    "Booleans can also be compared with the following words and symbols: `and`, `or`, `not`, `&`, and `|`. The last two symbols are the equivalent of `and` and `or`, and the `not` operator negates everything. If something is `not True`, then we know it must be `False`."
   ]
  },
  {
   "cell_type": "code",
   "execution_count": null,
   "metadata": {},
   "outputs": [],
   "source": [
    "True | True"
   ]
  },
  {
   "cell_type": "code",
   "execution_count": null,
   "metadata": {},
   "outputs": [],
   "source": [
    "False & False"
   ]
  },
  {
   "cell_type": "code",
   "execution_count": null,
   "metadata": {},
   "outputs": [],
   "source": [
    "not True"
   ]
  },
  {
   "cell_type": "code",
   "execution_count": null,
   "metadata": {},
   "outputs": [],
   "source": [
    "not False"
   ]
  },
  {
   "cell_type": "markdown",
   "metadata": {},
   "source": [
    "To compare expressions it is useful to use parentheses around each expression you are comparing. For example:"
   ]
  },
  {
   "cell_type": "code",
   "execution_count": null,
   "metadata": {},
   "outputs": [],
   "source": [
    "(110 >= 25) and (34 < 57)"
   ]
  },
  {
   "cell_type": "code",
   "execution_count": null,
   "metadata": {},
   "outputs": [],
   "source": [
    "110 >= 25 and 34 < 57"
   ]
  },
  {
   "cell_type": "markdown",
   "metadata": {},
   "source": [
    "Now that we know that boolean evaluations can be treated as conditions that are reduced to True or False, or 0 and 1, respectively, we can combine them with if-then statements to test things as we go. Let's have a look at our first example."
   ]
  },
  {
   "cell_type": "code",
   "execution_count": 5,
   "metadata": {},
   "outputs": [
    {
     "name": "stdout",
     "output_type": "stream",
     "text": [
      "Wow, Mia, you are half way to 50!\n"
     ]
    }
   ],
   "source": [
    "friend = 'Mia'\n",
    "age = 25\n",
    "\n",
    "if age == 25:\n",
    "    print(f\"Wow, {friend}, you are half way to 50!\")"
   ]
  },
  {
   "cell_type": "markdown",
   "metadata": {},
   "source": [
    "Since the stamemnt above was True, it evaluated the condition correctly and printed out what we wanted without any issues. What would have happened if the condition would have been False? Let's check that out.\n",
    "\n",
    "Note that `if` statements have to end with a `:` and continue to a 4-space indented line in order to work. The indentation happens automatically after you insert the `:` and press Enter."
   ]
  },
  {
   "cell_type": "code",
   "execution_count": 6,
   "metadata": {},
   "outputs": [],
   "source": [
    "if age == 20:\n",
    "    print(f\"Wow, {friend}, you are half way to 50!\")"
   ]
  },
  {
   "cell_type": "markdown",
   "metadata": {},
   "source": [
    "As you can see, nothing happens with the statement. Since it was false, nothing was evaluated. Here is where the `else` statement comes into play. If we want our expression to do something else in the event the first condition was not `True`, we can add `else` and another condition in the same fashion."
   ]
  },
  {
   "cell_type": "code",
   "execution_count": 7,
   "metadata": {},
   "outputs": [
    {
     "name": "stdout",
     "output_type": "stream",
     "text": [
      "She is not that age.\n"
     ]
    }
   ],
   "source": [
    "if age == 20:\n",
    "    print(f\"Wow, {friend}, you are half way to 50!\")\n",
    "else:\n",
    "    print(\"She is not that age.\")"
   ]
  },
  {
   "cell_type": "markdown",
   "metadata": {},
   "source": [
    "# Exercise 1\n",
    "\n",
    "Come up with any two `if-else` statements you want. **Hint:** Think of all of the things that you do before leaving your house to get together with a friend, to go to work, to the gym, etc..."
   ]
  },
  {
   "cell_type": "code",
   "execution_count": 10,
   "metadata": {},
   "outputs": [
    {
     "name": "stdout",
     "output_type": "stream",
     "text": [
      "time to take a shower and get ready to go to work!\n"
     ]
    }
   ],
   "source": [
    "# first if-else\n",
    "time = 6 #ideally this would be a method that gets the time?\n",
    "alarm = time >= 6 \n",
    "\n",
    "if alarm:\n",
    "    print(\"time to take a shower and get ready to go to work!\")\n",
    "else:\n",
    "    print(\"you can continue sleeping\")"
   ]
  },
  {
   "cell_type": "code",
   "execution_count": null,
   "metadata": {},
   "outputs": [],
   "source": [
    "# second if-else\n"
   ]
  },
  {
   "cell_type": "markdown",
   "metadata": {},
   "source": [
    "# 2 Loops"
   ]
  },
  {
   "cell_type": "markdown",
   "metadata": {},
   "source": [
    "Loops are one of the most useful tools in any programming language. They allow us to execute commands repeatedly given a criterion or set of instruction, and this functionality is what most often than not, helps us automate from the most mundane to the most complex a task we might encounter.\n",
    "\n",
    "There are different loops one can use in Python but we will focus on `for` loops today. Let's take a look at an example now."
   ]
  },
  {
   "cell_type": "code",
   "execution_count": 11,
   "metadata": {},
   "outputs": [
    {
     "name": "stdout",
     "output_type": "stream",
     "text": [
      "This is number 1\n",
      "This is number 2\n",
      "This is number 3\n",
      "This is number 4\n",
      "This is number 5\n"
     ]
    }
   ],
   "source": [
    "for a_number in [1, 2, 3, 4, 5]:\n",
    "    print(f\"This is number {a_number}\")"
   ]
  },
  {
   "cell_type": "markdown",
   "metadata": {},
   "source": [
    "Let's break down what just happened.\n",
    "\n",
    "1. The `for` command tells Python a loop is about to take place.\n",
    "2. The variable `a_number` can be any word we want to call it. It is a temporary nickname for the item that will be doing things repeadately.\n",
    "3. The `in` statement let's Python know where the data the temporary variable `a_number` will represent is at.\n",
    "4. The `[1, 2, 3, 4, 5]` list can be a variable, a function, a group of words, anything we can iterate over.\n",
    "5. The `:` is extremely important, it tells Python that we are about to give it the instructions for our loop. It is very important to note that after we press `Enter`, the next line is exactly 4 spaces away from the edge, if we don't have the following statements at this distance, Python will not do anything with the loop.\n",
    "6. The last bit is the instructions we want our loop to do repeatadely. In our case, we want it to `print()` each of the numbers in the list we have provided the loop with.\n",
    "\n",
    "The loop will continue until it has gone through every element in the list (5 in the example above). It is very important to understand when our loop will stop or how many times the loop will cruise through the elements we provided.\n",
    "\n",
    "Let's go over a few more examples."
   ]
  },
  {
   "cell_type": "code",
   "execution_count": 12,
   "metadata": {},
   "outputs": [
    {
     "name": "stdout",
     "output_type": "stream",
     "text": [
      "h\n",
      "i\n",
      " \n",
      "t\n",
      "h\n",
      "e\n",
      "r\n",
      "e\n"
     ]
    }
   ],
   "source": [
    "for letter in \"hi there\":\n",
    "    print(letter)"
   ]
  },
  {
   "cell_type": "markdown",
   "metadata": {},
   "source": [
    "If you would like to print the statements in the same line, you can add an `, end=''` at the end of your print function."
   ]
  },
  {
   "cell_type": "code",
   "execution_count": 14,
   "metadata": {},
   "outputs": [
    {
     "name": "stdout",
     "output_type": "stream",
     "text": [
      "hi there"
     ]
    }
   ],
   "source": [
    "for letter in \"hi there\":\n",
    "    print(letter, end='')"
   ]
  },
  {
   "cell_type": "code",
   "execution_count": 15,
   "metadata": {},
   "outputs": [
    {
     "name": "stdout",
     "output_type": "stream",
     "text": [
      "0\n",
      "1\n",
      "2\n",
      "3\n",
      "4\n",
      "5\n",
      "6\n",
      "7\n",
      "8\n",
      "9\n"
     ]
    }
   ],
   "source": [
    "for number in range(10): # the function range \n",
    "    print(number)"
   ]
  },
  {
   "cell_type": "markdown",
   "metadata": {},
   "source": [
    "We can also use loops to create new data structures. For example, a common thing to do in Python is to create an empty list and fill up with data given a criterion. Let's walk over an example together."
   ]
  },
  {
   "cell_type": "code",
   "execution_count": 16,
   "metadata": {},
   "outputs": [
    {
     "name": "stdout",
     "output_type": "stream",
     "text": [
      "[0, 1, 2, 3, 4, 5, 6, 7, 8, 9, 10, 11, 12, 13, 14, 15, 16, 17, 18, 19]\n"
     ]
    }
   ],
   "source": [
    "some_list = [] # first create an empty list\n",
    "\n",
    "for number in range(20): # initiate your loop\n",
    "    some_list.append(number) # append each number from 0 to 19 (aka 20) to the list\n",
    "    \n",
    "\n",
    "# this statement is not part of your loop\n",
    "print(some_list) # check the list"
   ]
  },
  {
   "cell_type": "code",
   "execution_count": 29,
   "metadata": {},
   "outputs": [
    {
     "name": "stdout",
     "output_type": "stream",
     "text": [
      "[0, 1, 2]\n"
     ]
    }
   ],
   "source": [
    "some_list = []\n",
    "n = 3 #don't know how to generate random numbers\n",
    "for num in range(n):\n",
    "    some_list.append(num)\n",
    "        \n",
    "print(some_list)\n"
   ]
  },
  {
   "cell_type": "markdown",
   "metadata": {},
   "source": [
    "We will continue revisiting loops in every lesson, and every single week, so by the end of the course you will be a looping wizzard! :)"
   ]
  },
  {
   "cell_type": "markdown",
   "metadata": {},
   "source": [
    "# 3 Functions"
   ]
  },
  {
   "cell_type": "markdown",
   "metadata": {},
   "source": [
    "Functions can be thought of as the encapsulation of instructions or a command. When we want to create new data types, or simply modify an existing one, we don't want to do that process manually every single time. This is one aspect of programming where functions come in very handy.\n",
    "\n",
    "You have already seen and used different functions throughout this lesson. For example, `print()` and `len()` are functions that already come with Python and thus don't require that we create them from scratch every single time we need them.\n",
    "\n",
    "Other functions, which are technically not called functions but behave as such, are called methods. Earlier when you called the `.append()` on a list object inside a loop, you were calling a method that belongs to the data structure list. The difference between regular functions and methods, is that the former can be applied to any object for which the function would do somethig useful and reasonable for, while the latter is called on an object and usually modifies that object given a set of parameters.\n",
    "\n",
    "Functions can be created with the word `def`, which implies `define`, followed by the name of your function, parentheses `()`, arguments or no arguments, a colon `:`, and the instructions you would like to save. Let's look at some examples together."
   ]
  },
  {
   "cell_type": "code",
   "execution_count": null,
   "metadata": {},
   "outputs": [],
   "source": [
    "# First we start the command with def\n",
    "# We then name our function sum_numbers\n",
    "def sum_numbers(x, y): # we add some parameters inside the parentheses and close with a colon\n",
    "    return x + y # we add and return the two values"
   ]
  },
  {
   "cell_type": "markdown",
   "metadata": {},
   "source": [
    "Now that we have create our function, and we know it can take any two parameters, let's test it out with some numbers."
   ]
  },
  {
   "cell_type": "code",
   "execution_count": null,
   "metadata": {},
   "outputs": [],
   "source": [
    "sum_numbers(5, 3)"
   ]
  },
  {
   "cell_type": "code",
   "execution_count": null,
   "metadata": {},
   "outputs": [],
   "source": [
    "def subtract(a, b):\n",
    "    return a - b"
   ]
  },
  {
   "cell_type": "code",
   "execution_count": null,
   "metadata": {},
   "outputs": [],
   "source": [
    "subtract(10, 6)"
   ]
  },
  {
   "cell_type": "code",
   "execution_count": null,
   "metadata": {},
   "outputs": [],
   "source": [
    "def print_full_names(firstname, lastname):\n",
    "    print(f\"My first name is {firstname} and my last name is {lastname}.\")"
   ]
  },
  {
   "cell_type": "code",
   "execution_count": null,
   "metadata": {},
   "outputs": [],
   "source": [
    "print_full_names('Ramon', 'Perez')"
   ]
  },
  {
   "cell_type": "markdown",
   "metadata": {},
   "source": [
    "It worked as intended and we now have a sense of how we can begin automating repetitive tasks. Loops help us do things repeatadely, if-else staments allow us to apply logical conditions to our code, and functions help us reuse code more efficiently.\n",
    "\n",
    "This was just a brief introduction of all three concepts. You will be using them all throughout this course."
   ]
  },
  {
   "cell_type": "markdown",
   "metadata": {},
   "source": [
    "# 4 Summary"
   ]
  },
  {
   "cell_type": "markdown",
   "metadata": {},
   "source": [
    "You have learned a great deal today and should be proud of your accomplishments. Let's recap what we have seen thus far.\n",
    "\n",
    "1. Doing something repeatadely is called a loop.\n",
    "2. Creating logical conditions to evaluate different arguments, can be accomplished with if-then statements.\n",
    "3. Instead of writing code over and over again, we can put our code into functions for reusabiliy.\n",
    "4. To ask the users of our programs to tell us things, we take advantage of the `input()` function.\n",
    "5. Jupyter lab will be our best friend for writing code.\n",
    "6. Git and GitHub will make sure we never lose our work."
   ]
  },
  {
   "cell_type": "markdown",
   "metadata": {},
   "source": [
    "# 5 Feedback"
   ]
  },
  {
   "cell_type": "markdown",
   "metadata": {},
   "source": [
    "We would really appreciate it if you could please provide us with your feedback from this session by filling a couple of question.\n",
    "\n",
    "> ## [Survey](https://docs.google.com/forms/d/e/1FAIpQLSd_6aA9D0sDGy1Tyzq20MlGp0RqNOzce5hRb9Dz-YCc3p-5Fg/viewform?usp=sf_link)"
   ]
  },
  {
   "cell_type": "markdown",
   "metadata": {},
   "source": [
    "# 6 References"
   ]
  },
  {
   "cell_type": "markdown",
   "metadata": {},
   "source": [
    "Sweigart, Al. _Automate the Boring Stuff with Python: Practical Programming for Total Beginners_. No Starch Press, 2020.\n",
    "\n",
    "VanderPlas, Jake. _A Whirlwind Tour of Python_. O'Reilly, 2016."
   ]
  }
 ],
 "metadata": {
  "kernelspec": {
   "display_name": "Python 3",
   "language": "python",
   "name": "python3"
  },
  "language_info": {
   "codemirror_mode": {
    "name": "ipython",
    "version": 3
   },
   "file_extension": ".py",
   "mimetype": "text/x-python",
   "name": "python",
   "nbconvert_exporter": "python",
   "pygments_lexer": "ipython3",
   "version": "3.8.3"
  }
 },
 "nbformat": 4,
 "nbformat_minor": 4
}
